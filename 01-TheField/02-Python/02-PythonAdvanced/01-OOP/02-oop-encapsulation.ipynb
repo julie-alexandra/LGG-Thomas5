{
 "cells": [
  {
   "cell_type": "markdown",
   "metadata": {},
   "source": [
    "# Encapsulation in Python"
   ]
  },
  {
   "cell_type": "markdown",
   "metadata": {},
   "source": [
    "Encapsulation is one of the fundamental concepts of object-oriented programming (OOP). It describes the idea of wrapping data and the methods that work on data within one unit. \n",
    "\n",
    "It works as a protective shield, limiting direct access to variables and methods and preventing accidental or unauthorized data alteration. Encapsulation also turns objects into more self-sufficient, self-contained (independently functioning) units.\n",
    "\n",
    "In C++, Java, or PHP things are pretty straight-forward. There are 3 magical and easy to remember access modifiers, that will do the job (`public`, `protected` and `private`). But there is no such a thing in Python.  \n",
    "\n",
    "That said, there is a way to simulate these behaviors. We are going to see how to do it."
   ]
  },
  {
   "cell_type": "markdown",
   "metadata": {},
   "source": [
    "## Public "
   ]
  },
  {
   "cell_type": "markdown",
   "metadata": {},
   "source": [
    "All methods and attributes default to public in Python. If you want to put your attributes and methods in public you don't have to do anything at all. Let's return to our previous blackboard example."
   ]
  },
  {
   "cell_type": "code",
   "execution_count": 2,
   "metadata": {},
   "outputs": [],
   "source": [
    "class Blackboard:\n",
    "    \"\"\"Class defining a surface on which to write,\n",
    "    that can be read and deleted, by a set of methods. The modified attribute\n",
    "    is \"surface\" \"\"\"\n",
    "\n",
    "    def __init__(self):\n",
    "        \"\"\"By default, our surface is empty\"\"\"\n",
    "        self.surface = \"\"\n",
    "\n",
    "    def write(self, message_written):\n",
    "        \"\"\"Method for writing on the surface of the table.\n",
    "        If the surface is not empty, we skip a line before adding\n",
    "        the message to be written\"\"\"\n",
    "\n",
    "        if self.surface != \"\":\n",
    "            self.surface += \"\\n\"\n",
    "        self.surface += message_written\n",
    "\n",
    "    def read(self):\n",
    "        return self.surface"
   ]
  },
  {
   "cell_type": "code",
   "execution_count": 3,
   "metadata": {},
   "outputs": [
    {
     "data": {
      "text/plain": [
       "'Hello guys'"
      ]
     },
     "execution_count": 3,
     "metadata": {},
     "output_type": "execute_result"
    }
   ],
   "source": [
    "board = Blackboard()\n",
    "board.write(\"another message\")\n",
    "board.surface = \"Hello guys\"\n",
    "board.read()"
   ]
  },
  {
   "cell_type": "markdown",
   "metadata": {},
   "source": [
    "We see that we can use the `read` and `write` methods and modify the `surface` attribute with no restrictions."
   ]
  },
  {
   "cell_type": "markdown",
   "metadata": {},
   "source": [
    "## Protected"
   ]
  },
  {
   "cell_type": "markdown",
   "metadata": {},
   "source": [
    "Protected member is (in C++ and Java) accessible only from within the class and it’s subclasses. How to accomplish this in Python?  \n",
    "\n",
    "To define a protected member, use a single underscore `_` before the member name. Let's modify our previous class to make the attribute ``surface`` a protected member."
   ]
  },
  {
   "cell_type": "code",
   "execution_count": 5,
   "metadata": {},
   "outputs": [],
   "source": [
    "class Blackboard:\n",
    "    \"\"\"Class defining a surface on which to write,\n",
    "    that can be read and deleted, by a set of methods. The modified attribute\n",
    "    is \"surface\" \"\"\"\n",
    "\n",
    "    def __init__(self):\n",
    "        \"\"\"By default, our surface is empty\"\"\"\n",
    "        self._surface = \"\"\n",
    "\n",
    "    def write(self, message_written):\n",
    "        \"\"\"Method for writing on the surface of the table.\n",
    "        If the surface is not empty, we skip a line before adding\n",
    "        the message to be written\"\"\"\n",
    "\n",
    "        if self._surface != \"\":\n",
    "            self._surface += \"\\n\"\n",
    "        self._surface += message_written\n",
    "\n",
    "    def read(self):\n",
    "        return self._surface"
   ]
  },
  {
   "cell_type": "markdown",
   "metadata": {},
   "source": [
    "But it's just a convention to indicate that these should not be accessed from outside the class. If you try to change the attribute anyway, it won't cause an error and the attribute will change. "
   ]
  },
  {
   "cell_type": "code",
   "execution_count": 6,
   "metadata": {},
   "outputs": [
    {
     "data": {
      "text/plain": [
       "'Hello guys'"
      ]
     },
     "execution_count": 6,
     "metadata": {},
     "output_type": "execute_result"
    }
   ],
   "source": [
    "board = Blackboard()\n",
    "board.write(\"another message\")\n",
    "board._surface = \"Hello guys\"\n",
    "board.read()"
   ]
  },
  {
   "cell_type": "markdown",
   "metadata": {},
   "source": [
    "What would happen if you modified the attribute `surface` directly?"
   ]
  },
  {
   "cell_type": "code",
   "execution_count": 7,
   "metadata": {},
   "outputs": [
    {
     "data": {
      "text/plain": [
       "'another message'"
      ]
     },
     "execution_count": 7,
     "metadata": {},
     "output_type": "execute_result"
    }
   ],
   "source": [
    "board = Blackboard()\n",
    "board.write(\"another message\")\n",
    "board.surface = \"Hello guys\"\n",
    "board.read()"
   ]
  },
  {
   "cell_type": "markdown",
   "metadata": {},
   "source": [
    "We see that we cannot the attribute was not modified!"
   ]
  },
  {
   "cell_type": "markdown",
   "metadata": {},
   "source": [
    "## Private\n",
    "\n",
    "The members of a class that are declared private are accessible within the class only, private access modifier is the most secure access modifier. Data members of a class are declared private by adding a double underscore ‘__’ symbol before the data member of that class. "
   ]
  },
  {
   "cell_type": "code",
   "execution_count": 21,
   "metadata": {},
   "outputs": [],
   "source": [
    "class Blackboard:\n",
    "    \"\"\"Class defining a surface on which to write,\n",
    "    that can be read and deleted, by a set of methods. The modified attribute\n",
    "    is \"surface\" \"\"\"\n",
    "    __surface = None\n",
    "\n",
    "    def __init__(self):\n",
    "        \"\"\"By default, our surface is empty\"\"\"\n",
    "        self.__surface = \"\"\n",
    "\n",
    "    def write(self, message_written):\n",
    "        \"\"\"Method for writing on the surface of the table.\n",
    "        If the surface is not empty, we skip a line before adding\n",
    "        the message to be written\"\"\"\n",
    "\n",
    "        if self.__surface != \"\":\n",
    "            self.__surface += \"\\n\"\n",
    "        self.__surface += message_written\n",
    "\n",
    "    def read(self):\n",
    "        return self.__surface\n",
    "    "
   ]
  },
  {
   "cell_type": "code",
   "execution_count": 23,
   "metadata": {},
   "outputs": [
    {
     "name": "stdout",
     "output_type": "stream",
     "text": [
      "another message\n",
      "\n"
     ]
    }
   ],
   "source": [
    "board = Blackboard()\n",
    "\n",
    "board.write(\"another message\")\n",
    "\n",
    "print(board.read())\n",
    "#print(board._Blackboard__surface)\n",
    "\n",
    "#print(board.__surface)\n",
    "\n",
    "board2 = Blackboard()\n",
    "print(board2.read())\n"
   ]
  },
  {
   "cell_type": "markdown",
   "metadata": {},
   "source": [
    "However, we can still access private members of a class outside the class. We cannot directly call board.__surface, because it throws an error. We can notice that in the list of callable fields and methods, __surface is saved as _Blackboard__surface. This conversion is called as name mangling, where the python interpreter automatically converts any member preceded with two underscores to ```_<class name>__<member name>```. Hence, we can still call all the supposedly private data members of a class using the above convention."
   ]
  },
  {
   "cell_type": "markdown",
   "metadata": {},
   "source": [
    "Voila! With a few modifications, we have built ensured the protection of our data.  \n",
    "For more details see: https://www.geeksforgeeks.org/access-modifiers-in-python-public-private-and-protected/"
   ]
  },
  {
   "cell_type": "markdown",
   "metadata": {},
   "source": [
    "Encapsulation best practices in Python involve using getter and setter methods, as well as property decorators, to control access to class attributes. Here are examples demonstrating these practices.\n",
    "\n",
    "#### Getter and Setter methods"
   ]
  },
  {
   "cell_type": "code",
   "execution_count": 24,
   "metadata": {},
   "outputs": [
    {
     "name": "stdout",
     "output_type": "stream",
     "text": [
      "1000\n",
      "2000\n",
      "Balance cannot be negative\n"
     ]
    }
   ],
   "source": [
    "class BankAccount:\n",
    "    def __init__(self, balance):\n",
    "        self.__balance = balance\n",
    "\n",
    "    def get_balance(self):\n",
    "        return self.__balance\n",
    "\n",
    "    def set_balance(self, amount):\n",
    "        if amount >= 0:\n",
    "            self.__balance = amount\n",
    "        else:\n",
    "            print(\"Balance cannot be negative\")\n",
    "\n",
    "account = BankAccount(1000)\n",
    "print(account.get_balance())  # 1000\n",
    "account.set_balance(2000)\n",
    "print(account.get_balance())  # 2000\n",
    "account.set_balance(-500)  # Balance cannot be negative\n"
   ]
  },
  {
   "cell_type": "markdown",
   "metadata": {},
   "source": [
    "#### Using Property Decorators\n",
    "Property decorators provide a more Pythonic way to implement getters and setters: "
   ]
  },
  {
   "cell_type": "code",
   "execution_count": 13,
   "metadata": {},
   "outputs": [
    {
     "name": "stdout",
     "output_type": "stream",
     "text": [
      "Alice\n",
      "50000\n",
      "Bob\n",
      "60000\n",
      "Name must be a string\n",
      "Salary must be positive\n"
     ]
    }
   ],
   "source": [
    "class Employee:\n",
    "    def __init__(self, name, salary):\n",
    "        self.__name = name\n",
    "        self.__salary = salary\n",
    "\n",
    "    @property\n",
    "    def name(self):\n",
    "        return self.__name\n",
    "\n",
    "    @name.setter\n",
    "    def name(self, value):\n",
    "        if isinstance(value, str):\n",
    "            self.__name = value\n",
    "        else:\n",
    "            raise ValueError(\"Name must be a string\")\n",
    "\n",
    "    @property\n",
    "    def salary(self):\n",
    "        return self.__salary\n",
    "\n",
    "    @salary.setter\n",
    "    def salary(self, value):\n",
    "        if value > 0:\n",
    "            self.__salary = value\n",
    "        else:\n",
    "            raise ValueError(\"Salary must be positive\")\n",
    "\n",
    "emp = Employee(\"Alice\", 50000)\n",
    "print(emp.name)  # Alice\n",
    "print(emp.salary)  # 50000\n",
    "\n",
    "emp.name = \"Bob\"\n",
    "emp.salary = 60000\n",
    "print(emp.name)  # Bob\n",
    "print(emp.salary)  # 60000\n",
    "\n",
    "try:\n",
    "    emp.name = 123  # Raises ValueError\n",
    "except ValueError as e:\n",
    "    print(str(e))  # Name must be a string\n",
    "\n",
    "try:\n",
    "    emp.salary = -1000  # Raises ValueError\n",
    "except ValueError as e:\n",
    "    print(str(e))  # Salary must be positive\n"
   ]
  },
  {
   "cell_type": "markdown",
   "metadata": {},
   "source": [
    "These examples demonstrate best practices for encapsulation in Python:\n",
    "\n",
    "- Use double underscores (__) for private attributes to enable name mangling.\n",
    "- Implement getter and setter methods or use property decorators for controlled access.\n",
    "- Add validation logic in setters to ensure data integrity.\n",
    "- Use properties to maintain a clean public interface while allowing controlled access to private attributes.\n",
    "- Raise appropriate exceptions for invalid inputs to maintain data consistency\n",
    "\n",
    "By following these practices, you can create more robust and maintainable code that effectively encapsulates internal data and provides a clean interface for interacting with objects"
   ]
  }
 ],
 "metadata": {
  "kernelspec": {
   "display_name": "Python 3",
   "language": "python",
   "name": "python3"
  },
  "language_info": {
   "codemirror_mode": {
    "name": "ipython",
    "version": 3
   },
   "file_extension": ".py",
   "mimetype": "text/x-python",
   "name": "python",
   "nbconvert_exporter": "python",
   "pygments_lexer": "ipython3",
   "version": "3.12.8"
  }
 },
 "nbformat": 4,
 "nbformat_minor": 2
}
