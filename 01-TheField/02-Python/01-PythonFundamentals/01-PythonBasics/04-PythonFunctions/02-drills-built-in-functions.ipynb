{
 "cells": [
  {
   "cell_type": "markdown",
   "metadata": {},
   "source": [
    "# Drill : built-in functions\n",
    "Use the native python functions to do these exercises."
   ]
  },
  {
   "cell_type": "markdown",
   "metadata": {},
   "source": [
    "### 1. Create a variable `count_alpha` that contains the number of characters contained in the string `\"Hello world!\"`."
   ]
  },
  {
   "cell_type": "code",
   "execution_count": 19,
   "metadata": {},
   "outputs": [
    {
     "name": "stdout",
     "output_type": "stream",
     "text": [
      "12\n"
     ]
    }
   ],
   "source": [
    "count_alpha = len(\"Hello world!\")\n",
    "print (count_alpha)"
   ]
  },
  {
   "cell_type": "markdown",
   "metadata": {},
   "source": [
    "### 2. Create a variable `count_float` and cast the variable `count_alpha` to float."
   ]
  },
  {
   "cell_type": "code",
   "execution_count": 20,
   "metadata": {},
   "outputs": [
    {
     "data": {
      "text/plain": [
       "float"
      ]
     },
     "execution_count": 20,
     "metadata": {},
     "output_type": "execute_result"
    }
   ],
   "source": [
    "count_float = float(count_alpha)\n",
    "type(count_float) "
   ]
  },
  {
   "cell_type": "markdown",
   "metadata": {},
   "source": [
    "### 3. Round the variable `pi` value to 2 decimal places (0.01) and save it in a variable `round_pi`. You can get `pi` from the `math` library."
   ]
  },
  {
   "cell_type": "code",
   "execution_count": 21,
   "metadata": {},
   "outputs": [
    {
     "name": "stdout",
     "output_type": "stream",
     "text": [
      "3.141592653589793\n",
      "3.14\n"
     ]
    }
   ],
   "source": [
    "import math \n",
    "\n",
    "print (math.pi) \n",
    "\n",
    "round_pi = round(math.pi, 2)\n",
    "print (round_pi)\n"
   ]
  },
  {
   "cell_type": "markdown",
   "metadata": {},
   "source": [
    "### 4. Create a variable `reversed_text` which contains the character string `\"Hello world!\"` backwards as a `list` object."
   ]
  },
  {
   "cell_type": "code",
   "execution_count": 22,
   "metadata": {},
   "outputs": [
    {
     "name": "stdout",
     "output_type": "stream",
     "text": [
      "['!', 'd', 'l', 'r', 'o', 'w', ' ', 'o', 'l', 'l', 'e', 'H']\n"
     ]
    }
   ],
   "source": [
    "text = \"Hello world!\"\n",
    "reversed_text = list(text)\n",
    "print (reversed_text[::-1])"
   ]
  },
  {
   "cell_type": "markdown",
   "metadata": {},
   "source": [
    "### 5. Create a variable `age`  and ask the user to enter his age. Then display it and display its type. "
   ]
  },
  {
   "cell_type": "code",
   "execution_count": 11,
   "metadata": {},
   "outputs": [
    {
     "data": {
      "text/plain": [
       "int"
      ]
     },
     "execution_count": 11,
     "metadata": {},
     "output_type": "execute_result"
    }
   ],
   "source": [
    "age = int(input(\"What's your age?\"))\n",
    "type(age)"
   ]
  },
  {
   "cell_type": "markdown",
   "metadata": {},
   "source": [
    "### 6. Create a variable `sorted_num` that contains the sorted `num` list.\n"
   ]
  },
  {
   "cell_type": "code",
   "execution_count": 13,
   "metadata": {},
   "outputs": [
    {
     "name": "stdout",
     "output_type": "stream",
     "text": [
      "[1, 2, 3, 4, 6, 7, 8]\n"
     ]
    }
   ],
   "source": [
    "num = [2, 8, 1, 4, 6, 3, 7]\n",
    "\n",
    "sorted_num = sorted(num)\n",
    "print (sorted_num)"
   ]
  },
  {
   "cell_type": "markdown",
   "metadata": {},
   "source": [
    "### 7. Create a variable `sum_of_list` which contains the sum of all the elements in the list `num`."
   ]
  },
  {
   "cell_type": "code",
   "execution_count": 14,
   "metadata": {},
   "outputs": [
    {
     "name": "stdout",
     "output_type": "stream",
     "text": [
      "31\n"
     ]
    }
   ],
   "source": [
    "num = [2, 8, 1, 4, 6, 3, 7]\n",
    "\n",
    "sum_of_list = sum(num)\n",
    "print (sum_of_list)"
   ]
  },
  {
   "cell_type": "markdown",
   "metadata": {},
   "source": [
    "### 8. Create a variable `min_value` that contains a minimum value of list `num`."
   ]
  },
  {
   "cell_type": "code",
   "execution_count": 15,
   "metadata": {},
   "outputs": [
    {
     "name": "stdout",
     "output_type": "stream",
     "text": [
      "1\n"
     ]
    }
   ],
   "source": [
    "num = [2, 8, 1, 4, 6, 3, 7]\n",
    "\n",
    "min_value = min(num)\n",
    "print (min_value)"
   ]
  },
  {
   "cell_type": "markdown",
   "metadata": {},
   "source": [
    "### 9. Create a variable `max_value` that contains the maximum value of list `num`."
   ]
  },
  {
   "cell_type": "code",
   "execution_count": 16,
   "metadata": {},
   "outputs": [
    {
     "name": "stdout",
     "output_type": "stream",
     "text": [
      "8\n"
     ]
    }
   ],
   "source": [
    "num = [2, 8, 1, 4, 6, 3, 7]\n",
    "max_value = max(num)\n",
    "print (max_value)"
   ]
  },
  {
   "cell_type": "markdown",
   "metadata": {},
   "source": [
    "### 10. Find a function that will interpret the string of the variable `calc`\n",
    "Save the result in a variable named `string_interpret`."
   ]
  },
  {
   "cell_type": "code",
   "execution_count": 17,
   "metadata": {},
   "outputs": [
    {
     "name": "stdout",
     "output_type": "stream",
     "text": [
      "3\n"
     ]
    }
   ],
   "source": [
    "calc = \"1 + 2\"\n",
    "\n",
    "string_interpret = eval(calc)\n",
    "print (string_interpret)\n"
   ]
  },
  {
   "cell_type": "markdown",
   "metadata": {},
   "source": [
    "## Testing\n",
    "\n",
    "The following piece of code is to test that you have correctly done the above exercises.\n",
    "If it fails, it means that some of your code is not correct. Read the error messages of each test carefully.\n",
    "\n",
    "If the syntax of the code below is confusing (`class`,`self`, etc...), don't worry, you will see it soon. The only thing you should know is that the method `assertEqual` checks if the right argument matches the left one, e.g. for `assertEqual(count_alpha, 12)` it checks that `count_alpha` is equal to 12.\n",
    "\n",
    "Please don't modify the code, you just have to execute it."
   ]
  },
  {
   "cell_type": "code",
   "execution_count": 23,
   "metadata": {},
   "outputs": [
    {
     "name": "stderr",
     "output_type": "stream",
     "text": [
      "test_age (__main__.TestNotebook.test_age) ... FAIL\n",
      "test_count_alpha (__main__.TestNotebook.test_count_alpha) ... ok\n",
      "test_count_float (__main__.TestNotebook.test_count_float) ... ok\n",
      "test_interpret (__main__.TestNotebook.test_interpret) ... ok\n",
      "test_max (__main__.TestNotebook.test_max) ... ok\n",
      "test_min (__main__.TestNotebook.test_min) ... ok\n",
      "test_pi (__main__.TestNotebook.test_pi) ... ok\n",
      "test_reversed (__main__.TestNotebook.test_reversed) ... FAIL\n",
      "test_sorted (__main__.TestNotebook.test_sorted) ... ok\n",
      "test_sum (__main__.TestNotebook.test_sum) ... ok\n",
      "\n",
      "======================================================================\n",
      "FAIL: test_age (__main__.TestNotebook.test_age)\n",
      "----------------------------------------------------------------------\n",
      "Traceback (most recent call last):\n",
      "  File \"/var/folders/w2/c2k89knd73bgqn5ls5q1bkyw0000gn/T/ipykernel_11835/1829869242.py\", line 20, in test_age\n",
      "    self.assertEqual(type(age), str)\n",
      "AssertionError: <class 'int'> != <class 'str'>\n",
      "\n",
      "======================================================================\n",
      "FAIL: test_reversed (__main__.TestNotebook.test_reversed)\n",
      "----------------------------------------------------------------------\n",
      "Traceback (most recent call last):\n",
      "  File \"/var/folders/w2/c2k89knd73bgqn5ls5q1bkyw0000gn/T/ipykernel_11835/1829869242.py\", line 15, in test_reversed\n",
      "    self.assertEqual(\n",
      "AssertionError: Lists differ: ['H', 'e', 'l', 'l', 'o', ' ', 'w', 'o', 'r', 'l', 'd', '!'] != ['!', 'd', 'l', 'r', 'o', 'w', ' ', 'o', 'l', 'l', 'e', 'H']\n",
      "\n",
      "First differing element 0:\n",
      "'H'\n",
      "'!'\n",
      "\n",
      "- ['H', 'e', 'l', 'l', 'o', ' ', 'w', 'o', 'r', 'l', 'd', '!']\n",
      "+ ['!', 'd', 'l', 'r', 'o', 'w', ' ', 'o', 'l', 'l', 'e', 'H']\n",
      "\n",
      "----------------------------------------------------------------------\n",
      "Ran 10 tests in 0.011s\n",
      "\n",
      "FAILED (failures=2)\n"
     ]
    },
    {
     "data": {
      "text/plain": [
       "<unittest.main.TestProgram at 0x105749910>"
      ]
     },
     "execution_count": 23,
     "metadata": {},
     "output_type": "execute_result"
    }
   ],
   "source": [
    "import unittest\n",
    "\n",
    "\n",
    "class TestNotebook(unittest.TestCase):\n",
    "    def test_count_alpha(self):\n",
    "        self.assertEqual(count_alpha, 12)\n",
    "\n",
    "    def test_count_float(self):\n",
    "        self.assertEqual(type(count_float), float)\n",
    "\n",
    "    def test_pi(self):\n",
    "        self.assertEqual(3.14, round_pi)\n",
    "\n",
    "    def test_reversed(self):\n",
    "        self.assertEqual(\n",
    "            reversed_text, [\"!\", \"d\", \"l\", \"r\", \"o\", \"w\", \" \", \"o\", \"l\", \"l\", \"e\", \"H\"]\n",
    "        )\n",
    "\n",
    "    def test_age(self):\n",
    "        self.assertEqual(type(age), str)\n",
    "\n",
    "    def test_sorted(self):\n",
    "        self.assertEqual(sorted_num, [1, 2, 3, 4, 6, 7, 8])\n",
    "\n",
    "    def test_sum(self):\n",
    "        self.assertEqual(sum_of_list, 31)\n",
    "\n",
    "    def test_min(self):\n",
    "        self.assertEqual(min_value, 1)\n",
    "\n",
    "    def test_max(self):\n",
    "        self.assertEqual(max_value, 8)\n",
    "\n",
    "    def test_interpret(self):\n",
    "        self.assertEqual(string_interpret, 3)\n",
    "\n",
    "\n",
    "unittest.main(argv=[\"\"], verbosity=2, exit=False)"
   ]
  }
 ],
 "metadata": {
  "kernelspec": {
   "display_name": "Python 3",
   "language": "python",
   "name": "python3"
  },
  "language_info": {
   "codemirror_mode": {
    "name": "ipython",
    "version": 3
   },
   "file_extension": ".py",
   "mimetype": "text/x-python",
   "name": "python",
   "nbconvert_exporter": "python",
   "pygments_lexer": "ipython3",
   "version": "3.12.8"
  }
 },
 "nbformat": 4,
 "nbformat_minor": 2
}
