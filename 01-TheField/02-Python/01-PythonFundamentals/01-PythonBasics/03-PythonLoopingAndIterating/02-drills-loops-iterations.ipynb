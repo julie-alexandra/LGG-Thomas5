{
 "cells": [
  {
   "cell_type": "markdown",
   "metadata": {},
   "source": [
    "# Drill loops and iterations"
   ]
  },
  {
   "cell_type": "markdown",
   "metadata": {},
   "source": [
    "### 1. Display all students in the `students` list in alphabetical order."
   ]
  },
  {
   "cell_type": "code",
   "execution_count": 2,
   "metadata": {},
   "outputs": [],
   "source": [
    "students = [\n",
    "    \"Merouane\",\n",
    "    \"Baptiste\",\n",
    "    \"Caroline\",\n",
    "    \"Joe\",\n",
    "    \"Sophie\",\n",
    "    \"Nathan\",\n",
    "    \"Raphaël\",\n",
    "    \"Axel\",\n",
    "    \"Mathieu\",\n",
    "    \"Adrien\",\n",
    "]"
   ]
  },
  {
   "cell_type": "markdown",
   "metadata": {},
   "source": [
    "### 2. Display only the names which begin with the letter \"M\". "
   ]
  },
  {
   "cell_type": "code",
   "execution_count": null,
   "metadata": {},
   "outputs": [],
   "source": [
    "for student in students:\n",
    "    if student.startswith(\"M\"):\n",
    "        print (student)"
   ]
  },
  {
   "cell_type": "markdown",
   "metadata": {},
   "source": [
    "### 3. Display integers from 0 to 15 not included, using a `for` loop and the `range()` instruction."
   ]
  },
  {
   "cell_type": "code",
   "execution_count": null,
   "metadata": {},
   "outputs": [],
   "source": [
    "for i in range(15):\n",
    "    print (i)\n",
    "    "
   ]
  },
  {
   "cell_type": "markdown",
   "metadata": {},
   "source": [
    "### 4. Create a `for` loop that displays integers from 1 to 10 included, but use the `break` instruction to interrupt it at 5."
   ]
  },
  {
   "cell_type": "code",
   "execution_count": null,
   "metadata": {},
   "outputs": [],
   "source": [
    "for i in range(11):\n",
    "    print (i)\n",
    "    if i == 5 :\n",
    "        break "
   ]
  },
  {
   "cell_type": "markdown",
   "metadata": {},
   "source": [
    "### 4. Create a `for` loop that displays integers from 1 to 10 included, but use the `continue` to modify its execution at 5."
   ]
  },
  {
   "cell_type": "code",
   "execution_count": null,
   "metadata": {},
   "outputs": [],
   "source": [
    "for i in range (1,11):\n",
    "    if i < 5:\n",
    "        print (f\"{i} minut(s) passed, you still have plenty of time!\")\n",
    "        continue \n",
    "    print (f\"{i} minuts passed, be careful...\")\n"
   ]
  },
  {
   "cell_type": "markdown",
   "metadata": {},
   "source": [
    "### 6. Follow the instructions :"
   ]
  },
  {
   "cell_type": "markdown",
   "metadata": {},
   "source": [
    "- **Sort and display the list.**\n",
    "    - Output expected: `[10, 17, 25, 38, 72]`\n",
    "- **Add item 12 to the unsorted list and display the list.**\n",
    "    - Output expected: `[17, 38, 10, 25, 72, 12]`\n",
    "- **Reverse and display the list.**\n",
    "    - Output expected: `[12, 72, 25, 10, 38, 17]`\n",
    "- **Display the index of element 17.**\n",
    "    - Output expected: `5`\n",
    "- **Remove item 38 and display the list.**\n",
    "    - Output expected: `[12, 72, 25, 10, 17]`\n",
    "- **Display the sub-list of the 2nd to 3rd element.**\n",
    "    - Output expected: `[72, 25]`\n",
    "- **Display the sub-list from the beginning to the 2nd element.**\n",
    "    - Output expected: `[12, 72]`\n",
    "- **Display the sub-list of the 3rd element at the end of the list.**\n",
    "    - Output expected: `[25, 10, 17]`\n",
    "- **Display the complete sub-list of the list.**\n",
    "    - Output expected: `[12, 72, 25, 10, 17]`\n",
    "- **Display the last element using a negative indication.**\n",
    "    - Output expected: `[17]`"
   ]
  },
  {
   "cell_type": "code",
   "execution_count": null,
   "metadata": {},
   "outputs": [],
   "source": [
    "list_of_numbers = [17, 38, 10, 25, 72]\n",
    "\n",
    "# Sort and display the list.\n",
    "print (sorted(list_of_numbers)) \n",
    "\n",
    "# Add item 12 to the unsorted list and display the list.\n",
    "list_of_numbers.append (12)\n",
    "print (list_of_numbers) \n",
    "\n",
    "# Reverse and display the list\n",
    "list_of_numbers.reverse ()\n",
    "print (list_of_numbers)\n",
    "\n",
    "# Display the index of element 17\n",
    "print (list_of_numbers.index(17))\n",
    "\n",
    "\n",
    "# Remove item 38 and display the list\n",
    "list_of_numbers.remove(38)\n",
    "print (list_of_numbers)\n",
    "\n",
    "# Display the sub-list of the 2nd to 3rd element\n",
    "print(list_of_numbers[1:3])\n",
    "\n",
    "\n",
    "# Display the sub-list from the beginning to the 2nd element\n",
    "print(list_of_numbers[:2])\n",
    "\n",
    "# Display the sub-list of the 3rd element at the end of the list\n",
    "print(list_of_numbers[2:])\n",
    "\n",
    "# Display the complete sub-list of the list\n",
    "print (list_of_numbers[:])\n",
    "\n",
    "# Display the last element using a negative indication  \n",
    "\n",
    "print (list_of_numbers[-1])"
   ]
  },
  {
   "cell_type": "markdown",
   "metadata": {},
   "source": [
    "Note that some list methods do not return anything."
   ]
  },
  {
   "cell_type": "markdown",
   "metadata": {},
   "source": [
    "### 7. Write an algorithm that:\n",
    "1. Asks the user to enter a number.\n",
    "2. Make sure that your program displays all the numbers down to 0. For example, if the user enters the number 3, then your program will display something like this: `3,2,1,0`"
   ]
  },
  {
   "cell_type": "code",
   "execution_count": null,
   "metadata": {},
   "outputs": [],
   "source": [
    "# Asks the user to enter a number\n",
    "\n",
    "while True:\n",
    "    try :\n",
    "        number = int(input(\"Enter a number\"))\n",
    "        break \n",
    "    except ValueError:\n",
    "        print (\"That's not a valid number. Please choose an integer!\")\n",
    "\n",
    "# Make sure that your program displays all the numbers down to 0. \n",
    "\n",
    "while number >= 0: \n",
    "    print (number)\n",
    "    number -=1\n",
    "\n",
    "    "
   ]
  },
  {
   "cell_type": "markdown",
   "metadata": {},
   "source": [
    "### 8.The price is right ! \n",
    "- Create a variable that will contain the number to be found. \n",
    "- Then create a function that will ask the user to find this price (asking for a number). \n",
    "- If the user enters a number that is too high, output the sentence: \"It's less.\". \n",
    "- If he enters a number that is too low, output the sentence: \"It's more.\". \n",
    "- If the user finds the right price, output the sentence: \"Well done, you won!\"."
   ]
  },
  {
   "cell_type": "code",
   "execution_count": 3,
   "metadata": {},
   "outputs": [
    {
     "name": "stdout",
     "output_type": "stream",
     "text": [
      "It's less! Try again\n",
      "Well done, you won!\n"
     ]
    }
   ],
   "source": [
    "# Create a variable that will contain the number to be found.\n",
    "\n",
    "import random \n",
    "price = random.randint(1,10)\n",
    "\n",
    "# Then create a function that will ask the user to find this price (asking for a number).\n",
    "# If the user enters a number that is too high, output the sentence: \"It's less.\".\n",
    "# If he enters a number that is too low, output the sentence: \"It's more.\".\n",
    "# If the user finds the right price, output the sentence: \"Well done, you won!\".\n",
    "\n",
    "max_attempts = 3\n",
    "won = False\n",
    "\n",
    "while max_attempts > 0:\n",
    "    try :\n",
    "        price_guess = int(input(f\"Find the price of this item, between 1 to 10 euros (integer). You have {max_attempts} attempts left: \"))\n",
    "        if 1 <= price_guess <=10: \n",
    "            max_attempts -= 1 \n",
    "            if price_guess < price: \n",
    "                print (\"It's more! Try again\")\n",
    "            elif price_guess > price:\n",
    "                print (\"It's less! Try again\")\n",
    "            else:\n",
    "                print (\"Well done, you won!\")\n",
    "                won = True\n",
    "                break \n",
    "        else: \n",
    "            print(\"The number must be between 1 and 10\")\n",
    "    except ValueError: \n",
    "        print(\"Please enter an integer between 1 to 10\")\n",
    "\n",
    "if max_attempts == 0 and not won : \n",
    "    print(f\"You failed! The right price was {price} !\")\n",
    "\n",
    "\n",
    "\n"
   ]
  },
  {
   "cell_type": "markdown",
   "metadata": {},
   "source": [
    "### 9. Display all students with the sentence \"NAME is an alumni. \""
   ]
  },
  {
   "cell_type": "code",
   "execution_count": 14,
   "metadata": {},
   "outputs": [
    {
     "name": "stdout",
     "output_type": "stream",
     "text": [
      "David is an alumni\n",
      "Justine is an alumni\n",
      "Valentin is an alumni\n",
      "Axel is an alumni\n",
      "Redouane is an alumni\n",
      "Julie is an alumni\n",
      "Stéphane is an alumni\n",
      "Mostapha is an alumni\n",
      "Claudiu is an alumni\n",
      "Son is an alumni\n"
     ]
    }
   ],
   "source": [
    "all_students = [\n",
    "    [\"David\", \"Justine\", \"Valentin\", \"Axel\", \"Redouane\"],\n",
    "    [\"Julie\", \"Stéphane\", \"Mostapha\", \"Claudiu\", \"Son\"],\n",
    "]\n",
    "\n",
    "for list in all_students:\n",
    "    for student in list :\n",
    "        print (f\"{student} is an alumni\")\n",
    "\n",
    "\n",
    "\n",
    "\n"
   ]
  },
  {
   "cell_type": "markdown",
   "metadata": {},
   "source": [
    "**10. Display all elements. If the element is part of the first list, display - `\"ELEMENT_HERE is a backend language?\"` - and if the element is part of the second list, display - `\"ELEMENT_HERE is a frontend language?\"`** "
   ]
  },
  {
   "cell_type": "code",
   "execution_count": 16,
   "metadata": {},
   "outputs": [
    {
     "name": "stdout",
     "output_type": "stream",
     "text": [
      "PHP is a backend language\n",
      "Java is a backend language\n",
      "C# is a backend language\n",
      "HTML is a fronted language\n",
      "CSS is a fronted language\n",
      "Javascript is a fronted language\n"
     ]
    }
   ],
   "source": [
    "languages = [[\"PHP\", \"Java\", \"C#\"], [\"HTML\", \"CSS\", \"Javascript\"]]\n",
    "\n",
    "\n",
    "for backend_language in languages[0]:\n",
    "    print (f\"{backend_language} is a backend language\")\n",
    "\n",
    "for frontend_language in languages[1]:\n",
    "    print (f\"{frontend_language} is a fronted language\")"
   ]
  }
 ],
 "metadata": {
  "kernelspec": {
   "display_name": "Python 3",
   "language": "python",
   "name": "python3"
  },
  "language_info": {
   "codemirror_mode": {
    "name": "ipython",
    "version": 3
   },
   "file_extension": ".py",
   "mimetype": "text/x-python",
   "name": "python",
   "nbconvert_exporter": "python",
   "pygments_lexer": "ipython3",
   "version": "3.12.8"
  }
 },
 "nbformat": 4,
 "nbformat_minor": 2
}
