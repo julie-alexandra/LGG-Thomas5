{
 "cells": [
  {
   "cell_type": "markdown",
   "metadata": {
    "id": "EeMCtmx9ykyx"
   },
   "source": [
    "# Large Language Models\n",
    "\n",
    "In 2017, a paper was released by Google called [Attention is All You Need](https://arxiv.org/abs/1706.03762). This paper introduced a new architecture, the Transformer (the T in GPT), which presented a pretty radical shift architecturally from the Recurrent Neural Networks. Throughout the years and with experimentation, many AI labs quickly realised we'd be able to scale this archirecture quite easily on text data. After all, the internet contains A LOT of text. So they started making them progressively bigger, and started seeing greater and greater improvements:\n",
    "\n",
    "- **2018 – BERT (340M)**\n",
    "  - Introduced bidirectional training using transformers.\n",
    "  - Revolutionized NLP tasks like Q&A and classification.\n",
    "\n",
    "- **2019 – GPT-2 (1.5B)**\n",
    "  - First truly general-purpose autoregressive language model.\n",
    "  - Showed coherent long-form text generation.\n",
    "\n",
    "- **2020 – GPT-3 (175B)**\n",
    "  - Massive scale jump; strong few-shot and zero-shot performance.\n",
    "  - Sparked public interest in \"AI that can write.\"\n",
    "\n",
    "- **2021 – Megatron-Turing NLG (530B)**\n",
    "  - Largest dense model at the time.\n",
    "  - High performance across language tasks, especially summarization.\n",
    "\n",
    "- **2022 – Chinchilla (70B)**\n",
    "  - Smaller than GPT-3 but outperformed it.\n",
    "  - Showed **data efficiency** matters more than size alone.\n",
    "\n",
    "- **2023 – GPT-4 (1.8T)**\n",
    "  - Multimodal (text + vision); stronger reasoning and factual grounding.\n",
    "  - Much better at following nuanced instructions.\n",
    "\n",
    "- **2024 – Gemini 1.5 (Undisclosed Size)**\n",
    "  - Long-context capability (over 1M tokens).\n",
    "  - Early glimpse of persistent memory and better tool use.\n",
    "\n",
    "- **2025 – GPT-4o (Undisclosed Size)**\n",
    "  - Real-time multimodal interaction (text, audio, vision).\n",
    "  - Natural, fast, human-like responses — huge leap in usability.\n",
    "\n",
    "If you want to learn how these things work, these are amazing videos about them (don't get too lost in them, there is still stuff to do):\n",
    "- [Neural Networks Series – 3Blue1Brown](https://www.youtube.com/watch?v=wjZofJX0v4M)  \n",
    "  Great intro video to how Transformers operate under the hood.\n",
    "- [Build a GPT from Scratch – Andrej Karpathy](https://www.youtube.com/watch?v=kCc8FmEb1nY)  \n",
    "  A fundamental walkthrough of how LLMs work: attention, MLPs, embeddings, and tokenizers — all built from scratch.\n",
    "- [Rebuilding GPT-2 – Andrej Karpathy](https://www.youtube.com/watch?v=l8pRSuU81PU)  \n",
    "  Builds a simplified version of GPT-2, great for practical understanding.\n"
   ]
  },
  {
   "cell_type": "markdown",
   "metadata": {},
   "source": [
    "## Intro to prompting LLMs from code\n",
    "\n",
    "Today virtually all NLP tasks are carried out using Large Language Models (LLMs). It is possible to make API calls to these behemoths, the google ones are the cheapest to use.\n",
    "\n",
    "Go on : https://aistudio.google.com/app/apikey to create yourself an API key. This is an unpaid key so it doesn't really matter, but a good practice is to never share your API key with anyone"
   ]
  },
  {
   "cell_type": "code",
   "execution_count": 1,
   "metadata": {},
   "outputs": [
    {
     "name": "stdout",
     "output_type": "stream",
     "text": [
      "Collecting python-dotenv\n",
      "  Using cached python_dotenv-1.1.0-py3-none-any.whl.metadata (24 kB)\n",
      "Using cached python_dotenv-1.1.0-py3-none-any.whl (20 kB)\n",
      "Installing collected packages: python-dotenv\n",
      "Successfully installed python-dotenv-1.1.0\n",
      "\n",
      "\u001b[1m[\u001b[0m\u001b[34;49mnotice\u001b[0m\u001b[1;39;49m]\u001b[0m\u001b[39;49m A new release of pip is available: \u001b[0m\u001b[31;49m24.0\u001b[0m\u001b[39;49m -> \u001b[0m\u001b[32;49m25.1.1\u001b[0m\n",
      "\u001b[1m[\u001b[0m\u001b[34;49mnotice\u001b[0m\u001b[1;39;49m]\u001b[0m\u001b[39;49m To update, run: \u001b[0m\u001b[32;49mpip install --upgrade pip\u001b[0m\n",
      "Note: you may need to restart the kernel to use updated packages.\n"
     ]
    }
   ],
   "source": [
    "%pip install python-dotenv"
   ]
  },
  {
   "cell_type": "code",
   "execution_count": 3,
   "metadata": {},
   "outputs": [
    {
     "name": "stdout",
     "output_type": "stream",
     "text": [
      "Collecting google-generativeai\n",
      "  Downloading google_generativeai-0.8.5-py3-none-any.whl.metadata (3.9 kB)\n",
      "Collecting google-ai-generativelanguage==0.6.15 (from google-generativeai)\n",
      "  Using cached google_ai_generativelanguage-0.6.15-py3-none-any.whl.metadata (5.7 kB)\n",
      "Collecting google-api-core (from google-generativeai)\n",
      "  Downloading google_api_core-2.24.2-py3-none-any.whl.metadata (3.0 kB)\n",
      "Collecting google-api-python-client (from google-generativeai)\n",
      "  Downloading google_api_python_client-2.170.0-py3-none-any.whl.metadata (6.7 kB)\n",
      "Collecting google-auth>=2.15.0 (from google-generativeai)\n",
      "  Downloading google_auth-2.40.2-py2.py3-none-any.whl.metadata (6.2 kB)\n",
      "Collecting protobuf (from google-generativeai)\n",
      "  Downloading protobuf-6.31.1-cp39-abi3-macosx_10_9_universal2.whl.metadata (593 bytes)\n",
      "Collecting pydantic (from google-generativeai)\n",
      "  Downloading pydantic-2.11.5-py3-none-any.whl.metadata (67 kB)\n",
      "\u001b[2K     \u001b[90m━━━━━━━━━━━━━━━━━━━━━━━━━━━━━━━━━━━━━━━━\u001b[0m \u001b[32m67.2/67.2 kB\u001b[0m \u001b[31m2.1 MB/s\u001b[0m eta \u001b[36m0:00:00\u001b[0m\n",
      "\u001b[?25hCollecting tqdm (from google-generativeai)\n",
      "  Using cached tqdm-4.67.1-py3-none-any.whl.metadata (57 kB)\n",
      "Requirement already satisfied: typing-extensions in /Users/julielibert/.pyenv/versions/3.11.12/lib/python3.11/site-packages (from google-generativeai) (4.13.2)\n",
      "Collecting proto-plus<2.0.0dev,>=1.22.3 (from google-ai-generativelanguage==0.6.15->google-generativeai)\n",
      "  Downloading proto_plus-1.26.1-py3-none-any.whl.metadata (2.2 kB)\n",
      "Collecting protobuf (from google-generativeai)\n",
      "  Downloading protobuf-5.29.5-cp38-abi3-macosx_10_9_universal2.whl.metadata (592 bytes)\n",
      "Collecting googleapis-common-protos<2.0.0,>=1.56.2 (from google-api-core->google-generativeai)\n",
      "  Downloading googleapis_common_protos-1.70.0-py3-none-any.whl.metadata (9.3 kB)\n",
      "Collecting requests<3.0.0,>=2.18.0 (from google-api-core->google-generativeai)\n",
      "  Using cached requests-2.32.3-py3-none-any.whl.metadata (4.6 kB)\n",
      "Collecting cachetools<6.0,>=2.0.0 (from google-auth>=2.15.0->google-generativeai)\n",
      "  Downloading cachetools-5.5.2-py3-none-any.whl.metadata (5.4 kB)\n",
      "Collecting pyasn1-modules>=0.2.1 (from google-auth>=2.15.0->google-generativeai)\n",
      "  Downloading pyasn1_modules-0.4.2-py3-none-any.whl.metadata (3.5 kB)\n",
      "Collecting rsa<5,>=3.1.4 (from google-auth>=2.15.0->google-generativeai)\n",
      "  Downloading rsa-4.9.1-py3-none-any.whl.metadata (5.6 kB)\n",
      "Collecting httplib2<1.0.0,>=0.19.0 (from google-api-python-client->google-generativeai)\n",
      "  Using cached httplib2-0.22.0-py3-none-any.whl.metadata (2.6 kB)\n",
      "Collecting google-auth-httplib2<1.0.0,>=0.2.0 (from google-api-python-client->google-generativeai)\n",
      "  Using cached google_auth_httplib2-0.2.0-py2.py3-none-any.whl.metadata (2.2 kB)\n",
      "Collecting uritemplate<5,>=3.0.1 (from google-api-python-client->google-generativeai)\n",
      "  Using cached uritemplate-4.1.1-py2.py3-none-any.whl.metadata (2.9 kB)\n",
      "Collecting annotated-types>=0.6.0 (from pydantic->google-generativeai)\n",
      "  Using cached annotated_types-0.7.0-py3-none-any.whl.metadata (15 kB)\n",
      "Collecting pydantic-core==2.33.2 (from pydantic->google-generativeai)\n",
      "  Downloading pydantic_core-2.33.2-cp311-cp311-macosx_11_0_arm64.whl.metadata (6.8 kB)\n",
      "Collecting typing-inspection>=0.4.0 (from pydantic->google-generativeai)\n",
      "  Downloading typing_inspection-0.4.1-py3-none-any.whl.metadata (2.6 kB)\n",
      "Collecting grpcio<2.0dev,>=1.33.2 (from google-api-core[grpc]!=2.0.*,!=2.1.*,!=2.10.*,!=2.2.*,!=2.3.*,!=2.4.*,!=2.5.*,!=2.6.*,!=2.7.*,!=2.8.*,!=2.9.*,<3.0.0dev,>=1.34.1->google-ai-generativelanguage==0.6.15->google-generativeai)\n",
      "  Downloading grpcio-1.71.0-cp311-cp311-macosx_10_14_universal2.whl.metadata (3.8 kB)\n",
      "Collecting grpcio-status<2.0.dev0,>=1.33.2 (from google-api-core[grpc]!=2.0.*,!=2.1.*,!=2.10.*,!=2.2.*,!=2.3.*,!=2.4.*,!=2.5.*,!=2.6.*,!=2.7.*,!=2.8.*,!=2.9.*,<3.0.0dev,>=1.34.1->google-ai-generativelanguage==0.6.15->google-generativeai)\n",
      "  Downloading grpcio_status-1.71.0-py3-none-any.whl.metadata (1.1 kB)\n",
      "Requirement already satisfied: pyparsing!=3.0.0,!=3.0.1,!=3.0.2,!=3.0.3,<4,>=2.4.2 in /Users/julielibert/.pyenv/versions/3.11.12/lib/python3.11/site-packages (from httplib2<1.0.0,>=0.19.0->google-api-python-client->google-generativeai) (3.2.3)\n",
      "Collecting pyasn1<0.7.0,>=0.6.1 (from pyasn1-modules>=0.2.1->google-auth>=2.15.0->google-generativeai)\n",
      "  Using cached pyasn1-0.6.1-py3-none-any.whl.metadata (8.4 kB)\n",
      "Collecting charset-normalizer<4,>=2 (from requests<3.0.0,>=2.18.0->google-api-core->google-generativeai)\n",
      "  Downloading charset_normalizer-3.4.2-cp311-cp311-macosx_10_9_universal2.whl.metadata (35 kB)\n",
      "Collecting idna<4,>=2.5 (from requests<3.0.0,>=2.18.0->google-api-core->google-generativeai)\n",
      "  Using cached idna-3.10-py3-none-any.whl.metadata (10 kB)\n",
      "Collecting urllib3<3,>=1.21.1 (from requests<3.0.0,>=2.18.0->google-api-core->google-generativeai)\n",
      "  Using cached urllib3-2.4.0-py3-none-any.whl.metadata (6.5 kB)\n",
      "Collecting certifi>=2017.4.17 (from requests<3.0.0,>=2.18.0->google-api-core->google-generativeai)\n",
      "  Downloading certifi-2025.4.26-py3-none-any.whl.metadata (2.5 kB)\n",
      "Downloading google_generativeai-0.8.5-py3-none-any.whl (155 kB)\n",
      "\u001b[2K   \u001b[90m━━━━━━━━━━━━━━━━━━━━━━━━━━━━━━━━━━━━━━━━\u001b[0m \u001b[32m155.4/155.4 kB\u001b[0m \u001b[31m1.8 MB/s\u001b[0m eta \u001b[36m0:00:00\u001b[0m00:01\u001b[0m0:01\u001b[0m\n",
      "\u001b[?25hUsing cached google_ai_generativelanguage-0.6.15-py3-none-any.whl (1.3 MB)\n",
      "Downloading google_api_core-2.24.2-py3-none-any.whl (160 kB)\n",
      "\u001b[2K   \u001b[90m━━━━━━━━━━━━━━━━━━━━━━━━━━━━━━━━━━━━━━━━\u001b[0m \u001b[32m160.1/160.1 kB\u001b[0m \u001b[31m3.2 MB/s\u001b[0m eta \u001b[36m0:00:00\u001b[0ma \u001b[36m0:00:01\u001b[0m\n",
      "\u001b[?25hDownloading google_auth-2.40.2-py2.py3-none-any.whl (216 kB)\n",
      "\u001b[2K   \u001b[90m━━━━━━━━━━━━━━━━━━━━━━━━━━━━━━━━━━━━━━━━\u001b[0m \u001b[32m216.1/216.1 kB\u001b[0m \u001b[31m8.5 MB/s\u001b[0m eta \u001b[36m0:00:00\u001b[0m\n",
      "\u001b[?25hDownloading protobuf-5.29.5-cp38-abi3-macosx_10_9_universal2.whl (418 kB)\n",
      "\u001b[2K   \u001b[90m━━━━━━━━━━━━━━━━━━━━━━━━━━━━━━━━━━━━━━━━\u001b[0m \u001b[32m418.1/418.1 kB\u001b[0m \u001b[31m3.2 MB/s\u001b[0m eta \u001b[36m0:00:00\u001b[0ma \u001b[36m0:00:01\u001b[0m\n",
      "\u001b[?25hDownloading google_api_python_client-2.170.0-py3-none-any.whl (13.5 MB)\n",
      "\u001b[2K   \u001b[90m━━━━━━━━━━━━━━━━━━━━━━━━━━━━━━━━━━━━━━━━\u001b[0m \u001b[32m13.5/13.5 MB\u001b[0m \u001b[31m1.5 MB/s\u001b[0m eta \u001b[36m0:00:00\u001b[0m00:01\u001b[0m00:01\u001b[0m\n",
      "\u001b[?25hDownloading pydantic-2.11.5-py3-none-any.whl (444 kB)\n",
      "\u001b[2K   \u001b[90m━━━━━━━━━━━━━━━━━━━━━━━━━━━━━━━━━━━━━━━━\u001b[0m \u001b[32m444.2/444.2 kB\u001b[0m \u001b[31m2.3 MB/s\u001b[0m eta \u001b[36m0:00:00\u001b[0m00:01\u001b[0m00:01\u001b[0m\n",
      "\u001b[?25hDownloading pydantic_core-2.33.2-cp311-cp311-macosx_11_0_arm64.whl (1.9 MB)\n",
      "\u001b[2K   \u001b[90m━━━━━━━━━━━━━━━━━━━━━━━━━━━━━━━━━━━━━━━━\u001b[0m \u001b[32m1.9/1.9 MB\u001b[0m \u001b[31m2.3 MB/s\u001b[0m eta \u001b[36m0:00:00\u001b[0m00:01\u001b[0m00:01\u001b[0m\n",
      "\u001b[?25hUsing cached tqdm-4.67.1-py3-none-any.whl (78 kB)\n",
      "Using cached annotated_types-0.7.0-py3-none-any.whl (13 kB)\n",
      "Downloading cachetools-5.5.2-py3-none-any.whl (10 kB)\n",
      "Using cached google_auth_httplib2-0.2.0-py2.py3-none-any.whl (9.3 kB)\n",
      "Downloading googleapis_common_protos-1.70.0-py3-none-any.whl (294 kB)\n",
      "\u001b[2K   \u001b[90m━━━━━━━━━━━━━━━━━━━━━━━━━━━━━━━━━━━━━━━━\u001b[0m \u001b[32m294.5/294.5 kB\u001b[0m \u001b[31m3.1 MB/s\u001b[0m eta \u001b[36m0:00:00\u001b[0ma \u001b[36m0:00:01\u001b[0m\n",
      "\u001b[?25hUsing cached httplib2-0.22.0-py3-none-any.whl (96 kB)\n",
      "Downloading proto_plus-1.26.1-py3-none-any.whl (50 kB)\n",
      "\u001b[2K   \u001b[90m━━━━━━━━━━━━━━━━━━━━━━━━━━━━━━━━━━━━━━━━\u001b[0m \u001b[32m50.2/50.2 kB\u001b[0m \u001b[31m2.8 MB/s\u001b[0m eta \u001b[36m0:00:00\u001b[0m\n",
      "\u001b[?25hDownloading pyasn1_modules-0.4.2-py3-none-any.whl (181 kB)\n",
      "\u001b[2K   \u001b[90m━━━━━━━━━━━━━━━━━━━━━━━━━━━━━━━━━━━━━━━━\u001b[0m \u001b[32m181.3/181.3 kB\u001b[0m \u001b[31m1.6 MB/s\u001b[0m eta \u001b[36m0:00:00\u001b[0m \u001b[36m0:00:01\u001b[0m\n",
      "\u001b[?25hUsing cached requests-2.32.3-py3-none-any.whl (64 kB)\n",
      "Downloading rsa-4.9.1-py3-none-any.whl (34 kB)\n",
      "Downloading typing_inspection-0.4.1-py3-none-any.whl (14 kB)\n",
      "Using cached uritemplate-4.1.1-py2.py3-none-any.whl (10 kB)\n",
      "Downloading certifi-2025.4.26-py3-none-any.whl (159 kB)\n",
      "\u001b[2K   \u001b[90m━━━━━━━━━━━━━━━━━━━━━━━━━━━━━━━━━━━━━━━━\u001b[0m \u001b[32m159.6/159.6 kB\u001b[0m \u001b[31m2.3 MB/s\u001b[0m eta \u001b[36m0:00:00\u001b[0m \u001b[36m0:00:01\u001b[0m\n",
      "\u001b[?25hDownloading charset_normalizer-3.4.2-cp311-cp311-macosx_10_9_universal2.whl (198 kB)\n",
      "\u001b[2K   \u001b[90m━━━━━━━━━━━━━━━━━━━━━━━━━━━━━━━━━━━━━━━━\u001b[0m \u001b[32m198.8/198.8 kB\u001b[0m \u001b[31m2.3 MB/s\u001b[0m eta \u001b[36m0:00:00\u001b[0ma \u001b[36m0:00:01\u001b[0m\n",
      "\u001b[?25hDownloading grpcio-1.71.0-cp311-cp311-macosx_10_14_universal2.whl (11.3 MB)\n",
      "\u001b[2K   \u001b[90m━━━━━━━━━━━━━━━━━━━━━━━━━━━━━━━━━━━━━━━━\u001b[0m \u001b[32m11.3/11.3 MB\u001b[0m \u001b[31m3.1 MB/s\u001b[0m eta \u001b[36m0:00:00\u001b[0m00:01\u001b[0m00:01\u001b[0m\n",
      "\u001b[?25hDownloading grpcio_status-1.71.0-py3-none-any.whl (14 kB)\n",
      "Using cached idna-3.10-py3-none-any.whl (70 kB)\n",
      "Using cached pyasn1-0.6.1-py3-none-any.whl (83 kB)\n",
      "Using cached urllib3-2.4.0-py3-none-any.whl (128 kB)\n",
      "Installing collected packages: urllib3, uritemplate, typing-inspection, tqdm, pydantic-core, pyasn1, protobuf, idna, httplib2, grpcio, charset-normalizer, certifi, cachetools, annotated-types, rsa, requests, pydantic, pyasn1-modules, proto-plus, googleapis-common-protos, grpcio-status, google-auth, google-auth-httplib2, google-api-core, google-api-python-client, google-ai-generativelanguage, google-generativeai\n",
      "Successfully installed annotated-types-0.7.0 cachetools-5.5.2 certifi-2025.4.26 charset-normalizer-3.4.2 google-ai-generativelanguage-0.6.15 google-api-core-2.24.2 google-api-python-client-2.170.0 google-auth-2.40.2 google-auth-httplib2-0.2.0 google-generativeai-0.8.5 googleapis-common-protos-1.70.0 grpcio-1.71.0 grpcio-status-1.71.0 httplib2-0.22.0 idna-3.10 proto-plus-1.26.1 protobuf-5.29.5 pyasn1-0.6.1 pyasn1-modules-0.4.2 pydantic-2.11.5 pydantic-core-2.33.2 requests-2.32.3 rsa-4.9.1 tqdm-4.67.1 typing-inspection-0.4.1 uritemplate-4.1.1 urllib3-2.4.0\n",
      "\n",
      "\u001b[1m[\u001b[0m\u001b[34;49mnotice\u001b[0m\u001b[1;39;49m]\u001b[0m\u001b[39;49m A new release of pip is available: \u001b[0m\u001b[31;49m24.0\u001b[0m\u001b[39;49m -> \u001b[0m\u001b[32;49m25.1.1\u001b[0m\n",
      "\u001b[1m[\u001b[0m\u001b[34;49mnotice\u001b[0m\u001b[1;39;49m]\u001b[0m\u001b[39;49m To update, run: \u001b[0m\u001b[32;49mpip install --upgrade pip\u001b[0m\n",
      "Note: you may need to restart the kernel to use updated packages.\n"
     ]
    }
   ],
   "source": [
    "%pip install google-generativeai"
   ]
  },
  {
   "cell_type": "code",
   "execution_count": 16,
   "metadata": {},
   "outputs": [
    {
     "name": "stdout",
     "output_type": "stream",
     "text": [
      "Found existing installation: google-generativeai 0.8.5\n",
      "Uninstalling google-generativeai-0.8.5:\n",
      "  Successfully uninstalled google-generativeai-0.8.5\n",
      "Note: you may need to restart the kernel to use updated packages.\n",
      "Collecting google-genai\n",
      "  Using cached google_genai-1.18.0-py3-none-any.whl.metadata (35 kB)\n",
      "Requirement already satisfied: python-dotenv in /Users/julielibert/.pyenv/versions/3.11.12/lib/python3.11/site-packages (1.1.0)\n",
      "Collecting anyio<5.0.0,>=4.8.0 (from google-genai)\n",
      "  Using cached anyio-4.9.0-py3-none-any.whl.metadata (4.7 kB)\n",
      "Requirement already satisfied: google-auth<3.0.0,>=2.14.1 in /Users/julielibert/.pyenv/versions/3.11.12/lib/python3.11/site-packages (from google-genai) (2.40.2)\n",
      "Collecting httpx<1.0.0,>=0.28.1 (from google-genai)\n",
      "  Using cached httpx-0.28.1-py3-none-any.whl.metadata (7.1 kB)\n",
      "Requirement already satisfied: pydantic<3.0.0,>=2.0.0 in /Users/julielibert/.pyenv/versions/3.11.12/lib/python3.11/site-packages (from google-genai) (2.11.5)\n",
      "Requirement already satisfied: requests<3.0.0,>=2.28.1 in /Users/julielibert/.pyenv/versions/3.11.12/lib/python3.11/site-packages (from google-genai) (2.32.3)\n",
      "Collecting websockets<15.1.0,>=13.0.0 (from google-genai)\n",
      "  Downloading websockets-15.0.1-cp311-cp311-macosx_11_0_arm64.whl.metadata (6.8 kB)\n",
      "Requirement already satisfied: typing-extensions<5.0.0,>=4.11.0 in /Users/julielibert/.pyenv/versions/3.11.12/lib/python3.11/site-packages (from google-genai) (4.13.2)\n",
      "Requirement already satisfied: idna>=2.8 in /Users/julielibert/.pyenv/versions/3.11.12/lib/python3.11/site-packages (from anyio<5.0.0,>=4.8.0->google-genai) (3.10)\n",
      "Collecting sniffio>=1.1 (from anyio<5.0.0,>=4.8.0->google-genai)\n",
      "  Using cached sniffio-1.3.1-py3-none-any.whl.metadata (3.9 kB)\n",
      "Requirement already satisfied: cachetools<6.0,>=2.0.0 in /Users/julielibert/.pyenv/versions/3.11.12/lib/python3.11/site-packages (from google-auth<3.0.0,>=2.14.1->google-genai) (5.5.2)\n",
      "Requirement already satisfied: pyasn1-modules>=0.2.1 in /Users/julielibert/.pyenv/versions/3.11.12/lib/python3.11/site-packages (from google-auth<3.0.0,>=2.14.1->google-genai) (0.4.2)\n",
      "Requirement already satisfied: rsa<5,>=3.1.4 in /Users/julielibert/.pyenv/versions/3.11.12/lib/python3.11/site-packages (from google-auth<3.0.0,>=2.14.1->google-genai) (4.9.1)\n",
      "Requirement already satisfied: certifi in /Users/julielibert/.pyenv/versions/3.11.12/lib/python3.11/site-packages (from httpx<1.0.0,>=0.28.1->google-genai) (2025.4.26)\n",
      "Collecting httpcore==1.* (from httpx<1.0.0,>=0.28.1->google-genai)\n",
      "  Downloading httpcore-1.0.9-py3-none-any.whl.metadata (21 kB)\n",
      "Collecting h11>=0.16 (from httpcore==1.*->httpx<1.0.0,>=0.28.1->google-genai)\n",
      "  Downloading h11-0.16.0-py3-none-any.whl.metadata (8.3 kB)\n",
      "Requirement already satisfied: annotated-types>=0.6.0 in /Users/julielibert/.pyenv/versions/3.11.12/lib/python3.11/site-packages (from pydantic<3.0.0,>=2.0.0->google-genai) (0.7.0)\n",
      "Requirement already satisfied: pydantic-core==2.33.2 in /Users/julielibert/.pyenv/versions/3.11.12/lib/python3.11/site-packages (from pydantic<3.0.0,>=2.0.0->google-genai) (2.33.2)\n",
      "Requirement already satisfied: typing-inspection>=0.4.0 in /Users/julielibert/.pyenv/versions/3.11.12/lib/python3.11/site-packages (from pydantic<3.0.0,>=2.0.0->google-genai) (0.4.1)\n",
      "Requirement already satisfied: charset-normalizer<4,>=2 in /Users/julielibert/.pyenv/versions/3.11.12/lib/python3.11/site-packages (from requests<3.0.0,>=2.28.1->google-genai) (3.4.2)\n",
      "Requirement already satisfied: urllib3<3,>=1.21.1 in /Users/julielibert/.pyenv/versions/3.11.12/lib/python3.11/site-packages (from requests<3.0.0,>=2.28.1->google-genai) (2.4.0)\n",
      "Requirement already satisfied: pyasn1<0.7.0,>=0.6.1 in /Users/julielibert/.pyenv/versions/3.11.12/lib/python3.11/site-packages (from pyasn1-modules>=0.2.1->google-auth<3.0.0,>=2.14.1->google-genai) (0.6.1)\n",
      "Using cached google_genai-1.18.0-py3-none-any.whl (199 kB)\n",
      "Using cached anyio-4.9.0-py3-none-any.whl (100 kB)\n",
      "Using cached httpx-0.28.1-py3-none-any.whl (73 kB)\n",
      "Downloading httpcore-1.0.9-py3-none-any.whl (78 kB)\n",
      "\u001b[2K   \u001b[90m━━━━━━━━━━━━━━━━━━━━━━━━━━━━━━━━━━━━━━━━\u001b[0m \u001b[32m78.8/78.8 kB\u001b[0m \u001b[31m2.2 MB/s\u001b[0m eta \u001b[36m0:00:00\u001b[0m\n",
      "\u001b[?25hDownloading websockets-15.0.1-cp311-cp311-macosx_11_0_arm64.whl (173 kB)\n",
      "\u001b[2K   \u001b[90m━━━━━━━━━━━━━━━━━━━━━━━━━━━━━━━━━━━━━━━━\u001b[0m \u001b[32m173.3/173.3 kB\u001b[0m \u001b[31m2.6 MB/s\u001b[0m eta \u001b[36m0:00:00\u001b[0m \u001b[36m0:00:01\u001b[0m\n",
      "\u001b[?25hUsing cached sniffio-1.3.1-py3-none-any.whl (10 kB)\n",
      "Downloading h11-0.16.0-py3-none-any.whl (37 kB)\n",
      "Installing collected packages: websockets, sniffio, h11, httpcore, anyio, httpx, google-genai\n",
      "Successfully installed anyio-4.9.0 google-genai-1.18.0 h11-0.16.0 httpcore-1.0.9 httpx-0.28.1 sniffio-1.3.1 websockets-15.0.1\n",
      "\n",
      "\u001b[1m[\u001b[0m\u001b[34;49mnotice\u001b[0m\u001b[1;39;49m]\u001b[0m\u001b[39;49m A new release of pip is available: \u001b[0m\u001b[31;49m24.0\u001b[0m\u001b[39;49m -> \u001b[0m\u001b[32;49m25.1.1\u001b[0m\n",
      "\u001b[1m[\u001b[0m\u001b[34;49mnotice\u001b[0m\u001b[1;39;49m]\u001b[0m\u001b[39;49m To update, run: \u001b[0m\u001b[32;49mpip install --upgrade pip\u001b[0m\n",
      "Note: you may need to restart the kernel to use updated packages.\n"
     ]
    }
   ],
   "source": [
    "%pip uninstall -y google-generativeai\n",
    "%pip install --upgrade google-genai python-dotenv\n"
   ]
  },
  {
   "cell_type": "code",
   "execution_count": null,
   "metadata": {
    "id": "HTiaTu6O1LRC"
   },
   "outputs": [],
   "source": [
    "import os\n",
    "from dotenv import load_dotenv, find_dotenv\n",
    "\n",
    "# Load environment variables from the first .env file found in the working directory or its parents\n",
    "load_dotenv(find_dotenv())\n",
    "\n",
    "# Retrieve the API key from environment variables\n",
    "API_KEY = os.getenv(\"GEMINI_API_KEY\")\n",
    "if not API_KEY:\n",
    "    raise Exception(\"Missing API key. Make sure 'GEMINI_API_KEY' is defined in your .env file.\")\n",
    "\n",
    "# Import the new Google Gemini SDK\n",
    "from google import genai\n",
    "\n",
    "# Initialize the Gemini client with the API key\n",
    "client = genai.Client(api_key=API_KEY)\n"
   ]
  },
  {
   "cell_type": "code",
   "execution_count": 19,
   "metadata": {},
   "outputs": [
    {
     "name": "stdout",
     "output_type": "stream",
     "text": [
      "I am doing well, thank you for asking! As a large language model, I don't experience emotions or feelings like humans do, but I am functioning optimally and ready to assist you. How can I help you today?\n",
      "\n"
     ]
    }
   ],
   "source": [
    "# Example request: generate a short text using the correct method\n",
    "response = client.models.generate_content(\n",
    "    model=\"gemini-2.0-flash\",         # Name of the model to call\n",
    "    contents=[\"Hello, how are you today?\"]  # Always wrap your prompt in a list\n",
    ")\n",
    "\n",
    "# Print the generated text\n",
    "print(response.text)"
   ]
  },
  {
   "cell_type": "markdown",
   "metadata": {},
   "source": [
    "### Making a call to a model\n",
    "\n",
    "Once your api key has been set up, you can use any gemini models in many different ways. The simplest way is just to prompt the model for an answer. To do so you have to call one of the [google models](https://deepmind.google/models/), ty to find the one that best suits your task and get generating!"
   ]
  },
  {
   "cell_type": "code",
   "execution_count": null,
   "metadata": {
    "id": "s-JqXcDe2hZ_"
   },
   "outputs": [],
   "source": [
    "response = client.models.generate_content(\n",
    "    model='YOUR MODEL HERE', contents='YOUR PROMPT HERE'\n",
    ")\n",
    "\n",
    "print(response.text)"
   ]
  },
  {
   "cell_type": "markdown",
   "metadata": {
    "id": "zUUAQS9u4biH"
   },
   "source": [
    "## What's next\n",
    "\n",
    "To learn more about working with the Gemini API, see the [Python tutorial](https://ai.google.dev/tutorials/python_quickstart).\n",
    "\n",
    "If you're new to generative AI models, you might want to look at the\n",
    "[concepts guide](https://ai.google.dev/docs/concepts) and the\n",
    "[Gemini API overview](https://ai.google.dev/docs/gemini_api_overview)."
   ]
  },
  {
   "cell_type": "markdown",
   "metadata": {
    "id": "jlERyJMgtQUz"
   },
   "source": [
    "# Phishing Prevention"
   ]
  },
  {
   "cell_type": "markdown",
   "metadata": {
    "id": "pEHfB5zltrvt"
   },
   "source": [
    "### Generate Phishing Emails:\n",
    "To generate a phishing email, we need to write a prompt. This prompt has to be creative in order to make it harder for people to guess that the email is a malicious one. This is a good article about it https://caniphish.com/blog/how-to-create-a-phishing-email.\n",
    "\n",
    "Here is an example of how to build a prompt, we first initialize the parameters:\n",
    "\n",
    "\n",
    "\n"
   ]
  },
  {
   "cell_type": "code",
   "execution_count": null,
   "metadata": {
    "id": "LQTlgAWLwR8c"
   },
   "outputs": [],
   "source": [
    "name=\"John\"\n",
    "surname=\"Doe\"\n",
    "email=\"john.doe@example.com\"\n",
    "business_unit=\"Sales\"\n",
    "team_name=\"B2B Sales\"\n",
    "\n",
    "#Create an approximate combination of phishing parameters\n",
    "phishing_examples = [\n",
    "    {\"Reason\": \"Account Suspicious Activity\", \"Fake Link\": \"https://example.com/secure-login\", \"Created By\": \"Sam Sussy\"},\n",
    "    {\"Reason\": \"Password Expiry Notification\", \"Fake Link\": \"https://example.com/reset-password\", \"Created By\": \"Sally Sneaky\"},\n",
    "    {\"Reason\": \"Exclusive Training Webinar\", \"Fake Link\": \"https://example.com/join-webinar\", \"Created By\": \"Richard Rascal\"},\n",
    "    {\"Reason\": \"Email Storage Full\", \"Fake Link\": \"https://example.com/manage-storage\", \"Created By\": \"Bernard Bandit\"}\n",
    "]"
   ]
  },
  {
   "cell_type": "markdown",
   "metadata": {
    "id": "aakX0oFW4gTm"
   },
   "source": [
    "We prompt Gemini for the body of the email:"
   ]
  },
  {
   "cell_type": "code",
   "execution_count": null,
   "metadata": {
    "colab": {
     "base_uri": "https://localhost:8080/"
    },
    "executionInfo": {
     "elapsed": 12,
     "status": "ok",
     "timestamp": 1739177712091,
     "user": {
      "displayName": "Antoine Gilliard",
      "userId": "03227876406612052863"
     },
     "user_tz": -60
    },
    "id": "p2ptJPI44gTm",
    "outputId": "dac9f420-ec93-4843-cd14-7a3c4383b4e2"
   },
   "outputs": [],
   "source": [
    "#Take a random reason\n",
    "import random\n",
    "random_pick = random.choice(phishing_examples)\n",
    "\n",
    "#Formulate a prompt\n",
    "prompt=f'''Write an email from {random_pick[\"Created By\"]} to {name} {surname} from the {team_name} team on the following theme: {random_pick[\"Reason\"]}.\n",
    "He will have to click on this link : {random_pick[\"Fake Link\"]}. Only write the body of this email.'''\n",
    "\n",
    "print(\"Prompt:\",prompt)"
   ]
  },
  {
   "cell_type": "code",
   "execution_count": null,
   "metadata": {
    "colab": {
     "base_uri": "https://localhost:8080/",
     "height": 471
    },
    "executionInfo": {
     "elapsed": 3080,
     "status": "ok",
     "timestamp": 1739177716849,
     "user": {
      "displayName": "Antoine Gilliard",
      "userId": "03227876406612052863"
     },
     "user_tz": -60
    },
    "id": "QAaOX7VE4gTn",
    "outputId": "a983ef85-5a2c-4d84-ed0b-6319edd70132"
   },
   "outputs": [],
   "source": [
    "body = client.models.generate_content(\n",
    "    model='YOUR MODEL HERE', contents=prompt\n",
    ")\n",
    "print(body.text)"
   ]
  },
  {
   "cell_type": "markdown",
   "metadata": {
    "id": "uNXBXbs54gTn"
   },
   "source": [
    "We prompt Gemini for the subject, e.g. we feed it previous output and ask for the subject:"
   ]
  },
  {
   "cell_type": "code",
   "execution_count": null,
   "metadata": {
    "colab": {
     "base_uri": "https://localhost:8080/",
     "height": 34
    },
    "executionInfo": {
     "elapsed": 907,
     "status": "ok",
     "timestamp": 1739177720048,
     "user": {
      "displayName": "Antoine Gilliard",
      "userId": "03227876406612052863"
     },
     "user_tz": -60
    },
    "id": "CO5Ofwqh4gTo",
    "outputId": "ffc22b35-821d-425c-c6b0-f7a9e671a16a"
   },
   "outputs": [],
   "source": [
    "\n",
    "subject = client.models.generate_content(\n",
    "    model='YOUR MODEL HERE', contents=\"Write me the subject of this email:\\n\"+body.text\n",
    ")\n",
    "print(subject.text)"
   ]
  }
 ],
 "metadata": {
  "colab": {
   "provenance": []
  },
  "kernelspec": {
   "display_name": "3.11.12",
   "language": "python",
   "name": "python3"
  },
  "language_info": {
   "codemirror_mode": {
    "name": "ipython",
    "version": 3
   },
   "file_extension": ".py",
   "mimetype": "text/x-python",
   "name": "python",
   "nbconvert_exporter": "python",
   "pygments_lexer": "ipython3",
   "version": "3.11.12"
  }
 },
 "nbformat": 4,
 "nbformat_minor": 0
}
