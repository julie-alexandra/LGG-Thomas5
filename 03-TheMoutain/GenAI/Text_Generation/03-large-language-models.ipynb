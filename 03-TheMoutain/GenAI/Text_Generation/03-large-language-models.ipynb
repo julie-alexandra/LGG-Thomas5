{
 "cells": [
  {
   "cell_type": "markdown",
   "metadata": {
    "id": "EeMCtmx9ykyx"
   },
   "source": [
    "# Large Language Models\n",
    "\n",
    "In 2017, a paper was released by Google called [Attention is All You Need](https://arxiv.org/abs/1706.03762). This paper introduced a new architecture, the Transformer (the T in GPT), which presented a pretty radical shift architecturally from the Recurrent Neural Networks. Throughout the years and with experimentation, many AI labs quickly realised we'd be able to scale this archirecture quite easily on text data. After all, the internet contains A LOT of text. So they started making them progressively bigger, and started seeing greater and greater improvements:\n",
    "\n",
    "- **2018 – BERT (340M)**\n",
    "  - Introduced bidirectional training using transformers.\n",
    "  - Revolutionized NLP tasks like Q&A and classification.\n",
    "\n",
    "- **2019 – GPT-2 (1.5B)**\n",
    "  - First truly general-purpose autoregressive language model.\n",
    "  - Showed coherent long-form text generation.\n",
    "\n",
    "- **2020 – GPT-3 (175B)**\n",
    "  - Massive scale jump; strong few-shot and zero-shot performance.\n",
    "  - Sparked public interest in \"AI that can write.\"\n",
    "\n",
    "- **2021 – Megatron-Turing NLG (530B)**\n",
    "  - Largest dense model at the time.\n",
    "  - High performance across language tasks, especially summarization.\n",
    "\n",
    "- **2022 – Chinchilla (70B)**\n",
    "  - Smaller than GPT-3 but outperformed it.\n",
    "  - Showed **data efficiency** matters more than size alone.\n",
    "\n",
    "- **2023 – GPT-4 (1.8T)**\n",
    "  - Multimodal (text + vision); stronger reasoning and factual grounding.\n",
    "  - Much better at following nuanced instructions.\n",
    "\n",
    "- **2024 – Gemini 1.5 (Undisclosed Size)**\n",
    "  - Long-context capability (over 1M tokens).\n",
    "  - Early glimpse of persistent memory and better tool use.\n",
    "\n",
    "- **2025 – GPT-4o (Undisclosed Size)**\n",
    "  - Real-time multimodal interaction (text, audio, vision).\n",
    "  - Natural, fast, human-like responses — huge leap in usability.\n",
    "\n",
    "If you want to learn how these things work, these are amazing videos about them (don't get too lost in them, there is still stuff to do):\n",
    "- [Neural Networks Series – 3Blue1Brown](https://www.youtube.com/watch?v=wjZofJX0v4M)  \n",
    "  Great intro video to how Transformers operate under the hood.\n",
    "- [Build a GPT from Scratch – Andrej Karpathy](https://www.youtube.com/watch?v=kCc8FmEb1nY)  \n",
    "  A fundamental walkthrough of how LLMs work: attention, MLPs, embeddings, and tokenizers — all built from scratch.\n",
    "- [Rebuilding GPT-2 – Andrej Karpathy](https://www.youtube.com/watch?v=l8pRSuU81PU)  \n",
    "  Builds a simplified version of GPT-2, great for practical understanding.\n"
   ]
  },
  {
   "cell_type": "markdown",
   "metadata": {},
   "source": [
    "## Intro to prompting LLMs from code\n",
    "\n",
    "Today virtually all NLP tasks are carried out using Large Language Models (LLMs). It is possible to make API calls to these behemoths, the google ones are the cheapest to use.\n",
    "\n",
    "Go on : https://aistudio.google.com/app/apikey to create yourself an API key. This is an unpaid key so it doesn't really matter, but a good practice is to never share your API key with anyone"
   ]
  },
  {
   "cell_type": "code",
   "execution_count": null,
   "metadata": {
    "id": "HTiaTu6O1LRC"
   },
   "outputs": [],
   "source": [
    "# Import the Python SDK\n",
    "from google import genai\n",
    "\n",
    "API_KEY=\"GEMINI API KEY HERE\"\n",
    "\n",
    "if API_KEY==\"GEMINI API KEY HERE\":\n",
    "    raise Exception('Your API key has to be put instead of \"GEMINI API KEY HERE\"')\n",
    "\n",
    "client = genai.Client(api_key=API_KEY)#Telling google what your API key is"
   ]
  },
  {
   "cell_type": "markdown",
   "metadata": {},
   "source": [
    "### Making a call to a model\n",
    "\n",
    "Once your api key has been set up, you can use any gemini models in many different ways. The simplest way is just to prompt the model for an answer. To do so you have to call one of the [google models](https://deepmind.google/models/), ty to find the one that best suits your task and get generating!"
   ]
  },
  {
   "cell_type": "code",
   "execution_count": null,
   "metadata": {
    "id": "s-JqXcDe2hZ_"
   },
   "outputs": [],
   "source": [
    "response = client.models.generate_content(\n",
    "    model='YOUR MODEL HERE', contents='YOUR PROMPT HERE'\n",
    ")\n",
    "\n",
    "print(response.text)"
   ]
  },
  {
   "cell_type": "markdown",
   "metadata": {
    "id": "zUUAQS9u4biH"
   },
   "source": [
    "## What's next\n",
    "\n",
    "To learn more about working with the Gemini API, see the [Python tutorial](https://ai.google.dev/tutorials/python_quickstart).\n",
    "\n",
    "If you're new to generative AI models, you might want to look at the\n",
    "[concepts guide](https://ai.google.dev/docs/concepts) and the\n",
    "[Gemini API overview](https://ai.google.dev/docs/gemini_api_overview)."
   ]
  },
  {
   "cell_type": "markdown",
   "metadata": {
    "id": "jlERyJMgtQUz"
   },
   "source": [
    "# Phishing Prevention"
   ]
  },
  {
   "cell_type": "markdown",
   "metadata": {
    "id": "pEHfB5zltrvt"
   },
   "source": [
    "### Generate Phishing Emails:\n",
    "To generate a phishing email, we need to write a prompt. This prompt has to be creative in order to make it harder for people to guess that the email is a malicious one. This is a good article about it https://caniphish.com/blog/how-to-create-a-phishing-email.\n",
    "\n",
    "Here is an example of how to build a prompt, we first initialize the parameters:\n",
    "\n",
    "\n",
    "\n"
   ]
  },
  {
   "cell_type": "code",
   "execution_count": null,
   "metadata": {
    "id": "LQTlgAWLwR8c"
   },
   "outputs": [],
   "source": [
    "name=\"John\"\n",
    "surname=\"Doe\"\n",
    "email=\"john.doe@example.com\"\n",
    "business_unit=\"Sales\"\n",
    "team_name=\"B2B Sales\"\n",
    "\n",
    "#Create an approximate combination of phishing parameters\n",
    "phishing_examples = [\n",
    "    {\"Reason\": \"Account Suspicious Activity\", \"Fake Link\": \"https://example.com/secure-login\", \"Created By\": \"Sam Sussy\"},\n",
    "    {\"Reason\": \"Password Expiry Notification\", \"Fake Link\": \"https://example.com/reset-password\", \"Created By\": \"Sally Sneaky\"},\n",
    "    {\"Reason\": \"Exclusive Training Webinar\", \"Fake Link\": \"https://example.com/join-webinar\", \"Created By\": \"Richard Rascal\"},\n",
    "    {\"Reason\": \"Email Storage Full\", \"Fake Link\": \"https://example.com/manage-storage\", \"Created By\": \"Bernard Bandit\"}\n",
    "]"
   ]
  },
  {
   "cell_type": "markdown",
   "metadata": {
    "id": "aakX0oFW4gTm"
   },
   "source": [
    "We prompt Gemini for the body of the email:"
   ]
  },
  {
   "cell_type": "code",
   "execution_count": null,
   "metadata": {
    "colab": {
     "base_uri": "https://localhost:8080/"
    },
    "executionInfo": {
     "elapsed": 12,
     "status": "ok",
     "timestamp": 1739177712091,
     "user": {
      "displayName": "Antoine Gilliard",
      "userId": "03227876406612052863"
     },
     "user_tz": -60
    },
    "id": "p2ptJPI44gTm",
    "outputId": "dac9f420-ec93-4843-cd14-7a3c4383b4e2"
   },
   "outputs": [],
   "source": [
    "#Take a random reason\n",
    "import random\n",
    "random_pick = random.choice(phishing_examples)\n",
    "\n",
    "#Formulate a prompt\n",
    "prompt=f'''Write an email from {random_pick[\"Created By\"]} to {name} {surname} from the {team_name} team on the following theme: {random_pick[\"Reason\"]}.\n",
    "He will have to click on this link : {random_pick[\"Fake Link\"]}. Only write the body of this email.'''\n",
    "\n",
    "print(\"Prompt:\",prompt)"
   ]
  },
  {
   "cell_type": "code",
   "execution_count": null,
   "metadata": {
    "colab": {
     "base_uri": "https://localhost:8080/",
     "height": 471
    },
    "executionInfo": {
     "elapsed": 3080,
     "status": "ok",
     "timestamp": 1739177716849,
     "user": {
      "displayName": "Antoine Gilliard",
      "userId": "03227876406612052863"
     },
     "user_tz": -60
    },
    "id": "QAaOX7VE4gTn",
    "outputId": "a983ef85-5a2c-4d84-ed0b-6319edd70132"
   },
   "outputs": [],
   "source": [
    "body = client.models.generate_content(\n",
    "    model='YOUR MODEL HERE', contents=prompt\n",
    ")\n",
    "print(body.text)"
   ]
  },
  {
   "cell_type": "markdown",
   "metadata": {
    "id": "uNXBXbs54gTn"
   },
   "source": [
    "We prompt Gemini for the subject, e.g. we feed it previous output and ask for the subject:"
   ]
  },
  {
   "cell_type": "code",
   "execution_count": null,
   "metadata": {
    "colab": {
     "base_uri": "https://localhost:8080/",
     "height": 34
    },
    "executionInfo": {
     "elapsed": 907,
     "status": "ok",
     "timestamp": 1739177720048,
     "user": {
      "displayName": "Antoine Gilliard",
      "userId": "03227876406612052863"
     },
     "user_tz": -60
    },
    "id": "CO5Ofwqh4gTo",
    "outputId": "ffc22b35-821d-425c-c6b0-f7a9e671a16a"
   },
   "outputs": [],
   "source": [
    "\n",
    "subject = client.models.generate_content(\n",
    "    model='YOUR MODEL HERE', contents=\"Write me the subject of this email:\\n\"+body.text\n",
    ")\n",
    "print(subject.text)"
   ]
  }
 ],
 "metadata": {
  "colab": {
   "provenance": []
  },
  "kernelspec": {
   "display_name": "Python 3",
   "name": "python3"
  },
  "language_info": {
   "codemirror_mode": {
    "name": "ipython",
    "version": 3
   },
   "file_extension": ".py",
   "mimetype": "text/x-python",
   "name": "python",
   "nbconvert_exporter": "python",
   "pygments_lexer": "ipython3",
   "version": "3.12.3"
  }
 },
 "nbformat": 4,
 "nbformat_minor": 0
}
