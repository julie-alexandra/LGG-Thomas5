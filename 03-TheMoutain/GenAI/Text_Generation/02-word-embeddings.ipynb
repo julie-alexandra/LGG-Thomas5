{
 "cells": [
  {
   "cell_type": "markdown",
   "metadata": {},
   "source": [
    "# Embedding\n",
    "\n",
    "## Why Embedding?\n",
    "As we know, machines can't handle text, it can only handle numbers. But how to convert a word to numbers?\n",
    "\n",
    "The most naive approach would be to take a list of all the words in your text and attribute a number to all of them. It will work but you can imagine that some problems will appear:\n",
    "* How do you handle unknown words? \n",
    "* If your text contains `doctor`, `nurse`, and `candy`. `doctor` and `nurse` have a strong similarity but `candy` doesn't. How can we make the machine understand that? With our naive technique, `doctor` could have the number `5` associated to it and nurse the number `98767`.\n",
    "\n",
    "Of course, a lot of people already spent some time with those problems. the solution that came out of it is \"Embedding\". \n",
    "\n",
    "## What is embeddings?\n",
    "\n",
    "An embedding is a **VECTOR** which represents a word or a document.\n",
    "\n",
    "A vector will be attributed to each token. Each vector will contain multiple dimensions (usually tens or hundreds of dimensions).\n",
    "\n",
    "```\n",
    "[...] associate with each word in the vocabulary a distributed word feature vector [...] The feature vector represents different aspects of the word: each word is associated with a point in a vector space. The number of features [...] is much smaller than the size of the vocabulary.\n",
    "```\n",
    "- [A Neural Probabilistic Language Model](https://www.jmlr.org/papers/volume3/bengio03a/bengio03a.pdf), 2003.\n",
    "\n",
    "Long story short, embeddings convert words into vectors in a way that allows the machine to understand the similarity betweens them.\n",
    "\n",
    "Each embedding library has it's own way of classifying words, it will regroup words into big categories. Each word will get a score for each category.\n",
    "\n",
    "To take a simple example the word `mother` could be classified like that:\n",
    "\n",
    "|        | female | family | human | animal|\n",
    "|--------|--------|---------|-------|-------|\n",
    "| mother | 0.9    | 0.9.    | 0.7   | 0.1   |\n",
    "\n",
    "**Explanations:** Mother has a strong similarity with female, family and human but it has a low similarity with animal.\n",
    "\n",
    "**Disclaimer:** Those numbers and categories are totally arbitrary and are only here to show an example.\n",
    "\n",
    "Here is another example with more complete datas:\n",
    "\n",
    "![embedding](https://miro.medium.com/max/2598/1*sAJdxEsDjsPMioHyzlN3_A.png)\n",
    "\n",
    "## Should I do it by hand?\n",
    "\n",
    "You could, but if some people already did the job for you and spent a lot of time to optimize it, why not use it?\n",
    "\n",
    "## What to use?\n",
    "\n",
    "There are a lot of libraries out there for embeddings. Which one is the best? Once again, *it depends*. The results will change depending on the text you are using, the information you want to extract, the model you use,...\n",
    "\n",
    "Choosing the \"best\" embedding model will be part of the hyper-optimization that you can do at the end of a project.\n",
    "\n",
    "If you want understand embeddings more in depth, [follow this link](http://jalammar.github.io/illustrated-word2vec/) or watch this [video](https://www.youtube.com/watch?v=gQddtTdmG_8).\n",
    "\n",
    "Here are some of the best libraries:\n",
    "\n",
    "* [Gensim](https://pypi.org/project/gensim/)\n",
    "* [Word2Vec](https://www.tensorflow.org/tutorials/text/word2vec)\n",
    "\n",
    "This next bit of code loads a model for practice"
   ]
  },
  {
   "cell_type": "code",
   "execution_count": 2,
   "metadata": {},
   "outputs": [
    {
     "name": "stdout",
     "output_type": "stream",
     "text": [
      "Collecting gensim\n",
      "  Downloading gensim-4.3.3-cp311-cp311-macosx_11_0_arm64.whl.metadata (8.1 kB)\n",
      "Collecting numpy<2.0,>=1.18.5 (from gensim)\n",
      "  Downloading numpy-1.26.4-cp311-cp311-macosx_11_0_arm64.whl.metadata (114 kB)\n",
      "\u001b[2K     \u001b[90m━━━━━━━━━━━━━━━━━━━━━━━━━━━━━━━━━━━━━━━\u001b[0m \u001b[32m114.8/114.8 kB\u001b[0m \u001b[31m2.3 MB/s\u001b[0m eta \u001b[36m0:00:00\u001b[0ma \u001b[36m0:00:01\u001b[0m\n",
      "\u001b[?25hCollecting scipy<1.14.0,>=1.7.0 (from gensim)\n",
      "  Downloading scipy-1.13.1-cp311-cp311-macosx_12_0_arm64.whl.metadata (60 kB)\n",
      "\u001b[2K     \u001b[90m━━━━━━━━━━━━━━━━━━━━━━━━━━━━━━━━━━━━━━━━\u001b[0m \u001b[32m60.6/60.6 kB\u001b[0m \u001b[31m3.2 MB/s\u001b[0m eta \u001b[36m0:00:00\u001b[0m\n",
      "\u001b[?25hCollecting smart-open>=1.8.1 (from gensim)\n",
      "  Using cached smart_open-7.1.0-py3-none-any.whl.metadata (24 kB)\n",
      "Collecting wrapt (from smart-open>=1.8.1->gensim)\n",
      "  Downloading wrapt-1.17.2-cp311-cp311-macosx_11_0_arm64.whl.metadata (6.4 kB)\n",
      "Downloading gensim-4.3.3-cp311-cp311-macosx_11_0_arm64.whl (24.0 MB)\n",
      "\u001b[2K   \u001b[90m━━━━━━━━━━━━━━━━━━━━━━━━━━━━━━━━━━━━━━━━\u001b[0m \u001b[32m24.0/24.0 MB\u001b[0m \u001b[31m4.3 MB/s\u001b[0m eta \u001b[36m0:00:00\u001b[0m00:01\u001b[0m00:01\u001b[0m\n",
      "\u001b[?25hDownloading numpy-1.26.4-cp311-cp311-macosx_11_0_arm64.whl (14.0 MB)\n",
      "\u001b[2K   \u001b[90m━━━━━━━━━━━━━━━━━━━━━━━━━━━━━━━━━━━━━━━━\u001b[0m \u001b[32m14.0/14.0 MB\u001b[0m \u001b[31m6.5 MB/s\u001b[0m eta \u001b[36m0:00:00\u001b[0m00:01\u001b[0m00:01\u001b[0m\n",
      "\u001b[?25hDownloading scipy-1.13.1-cp311-cp311-macosx_12_0_arm64.whl (30.3 MB)\n",
      "\u001b[2K   \u001b[90m━━━━━━━━━━━━━━━━━━━━━━━━━━━━━━━━━━━━━━━━\u001b[0m \u001b[32m30.3/30.3 MB\u001b[0m \u001b[31m7.0 MB/s\u001b[0m eta \u001b[36m0:00:00\u001b[0m00:01\u001b[0m00:01\u001b[0m\n",
      "\u001b[?25hUsing cached smart_open-7.1.0-py3-none-any.whl (61 kB)\n",
      "Downloading wrapt-1.17.2-cp311-cp311-macosx_11_0_arm64.whl (38 kB)\n",
      "Installing collected packages: wrapt, numpy, smart-open, scipy, gensim\n",
      "Successfully installed gensim-4.3.3 numpy-1.26.4 scipy-1.13.1 smart-open-7.1.0 wrapt-1.17.2\n",
      "\n",
      "\u001b[1m[\u001b[0m\u001b[34;49mnotice\u001b[0m\u001b[1;39;49m]\u001b[0m\u001b[39;49m A new release of pip is available: \u001b[0m\u001b[31;49m24.0\u001b[0m\u001b[39;49m -> \u001b[0m\u001b[32;49m25.1.1\u001b[0m\n",
      "\u001b[1m[\u001b[0m\u001b[34;49mnotice\u001b[0m\u001b[1;39;49m]\u001b[0m\u001b[39;49m To update, run: \u001b[0m\u001b[32;49mpip install --upgrade pip\u001b[0m\n",
      "Note: you may need to restart the kernel to use updated packages.\n"
     ]
    }
   ],
   "source": [
    "%pip install gensim"
   ]
  },
  {
   "cell_type": "code",
   "execution_count": 3,
   "metadata": {},
   "outputs": [
    {
     "name": "stdout",
     "output_type": "stream",
     "text": [
      "Downloading model...\n",
      "[==================================================] 100.0% 376.1/376.1MB downloaded\n",
      "Model downloaded and saved.\n"
     ]
    }
   ],
   "source": [
    "import os\n",
    "import gensim.downloader as api\n",
    "from gensim.models import KeyedVectors\n",
    "import math\n",
    "import numpy as np\n",
    "\n",
    "# Path where you want to store/load the model\n",
    "model_path = \"models/glove-wiki-gigaword-300.kv\"\n",
    "\n",
    "# Load model from disk if exists, else download and save it\n",
    "if os.path.exists(model_path):\n",
    "    print(\"Loading model from local file...\")\n",
    "    model = KeyedVectors.load(model_path)\n",
    "else:\n",
    "    print(\"Downloading model...\")\n",
    "    model = api.load(\"glove-wiki-gigaword-300\")\n",
    "    model.save(model_path)\n",
    "    print(\"Model downloaded and saved.\")\n"
   ]
  },
  {
   "cell_type": "markdown",
   "metadata": {},
   "source": [
    "## Practice time!\n",
    "\n",
    "Enough reading, let's practice a bit. On this sentence:"
   ]
  },
  {
   "cell_type": "code",
   "execution_count": 4,
   "metadata": {},
   "outputs": [],
   "source": [
    "sentence = \"I love learning\""
   ]
  },
  {
   "cell_type": "markdown",
   "metadata": {},
   "source": [
    "What do the word vectors look like? What is their size? What is their [magnitude](https://numpy.org/doc/2.1/reference/generated/numpy.linalg.norm.html)?"
   ]
  },
  {
   "cell_type": "code",
   "execution_count": 5,
   "metadata": {},
   "outputs": [
    {
     "name": "stdout",
     "output_type": "stream",
     "text": [
      "Word: i\n",
      "Vector: [-0.13292   0.16985  -0.1436   -0.088722  0.07951  -0.14212  -0.024209\n",
      " -0.26291  -0.074814 -2.36    ]...\n",
      "Size: 300\n",
      "Magnitude: 6.9177021980285645\n",
      "Word: love\n",
      "Vector: [-0.45205  -0.33122  -0.063607  0.028325 -0.21372   0.16839  -0.017186\n",
      "  0.047309 -0.052355 -0.98706 ]...\n",
      "Size: 300\n",
      "Magnitude: 6.136056423187256\n",
      "Word: learning\n",
      "Vector: [-0.38732   -0.32467    0.22053   -0.12059   -0.14239    0.0017644\n",
      "  0.047267  -0.10137    0.01616   -1.4371   ]...\n",
      "Size: 300\n",
      "Magnitude: 5.955530643463135\n"
     ]
    }
   ],
   "source": [
    "words = sentence.lower().split()\n",
    "\n",
    "for word in words:\n",
    "    vector = model[word]\n",
    "    print (f\"Word: {word}\")\n",
    "    print (f\"Vector: {vector[:10]}...\")\n",
    "    print (f\"Size: {len(vector)}\")\n",
    "    print (f\"Magnitude: {np.linalg.norm(vector)}\")\n"
   ]
  },
  {
   "cell_type": "markdown",
   "metadata": {},
   "source": [
    "## Maths on text\n",
    "\n",
    "Since the words are embedded into vectors we can now apply mathematical methods on them.\n",
    "\n",
    "### Average vector\n",
    "\n",
    "For example we could build the average vector for a text by using NumPy! This is a straightforward way to build one single representation for a text.\n",
    "\n",
    "- Apply a gensim model on the text\n",
    "- Get all word vectors into a list\n",
    "- Compute and display the average vector of the list\n",
    "- Get it's representation using the gensim most_similar method"
   ]
  },
  {
   "cell_type": "code",
   "execution_count": 11,
   "metadata": {},
   "outputs": [
    {
     "name": "stdout",
     "output_type": "stream",
     "text": [
      "The average vector of the list is [-6.72467574e-02  1.12447746e-01 -7.71599859e-02 -1.69428512e-01\n",
      " -5.58186248e-02 -9.41490084e-02 -5.27175106e-02 -1.63590372e-01\n",
      "  1.71046898e-01 -1.79302382e+00  1.76756769e-01 -2.72012115e-01\n",
      "  1.42969117e-01  7.32323825e-02  4.17656302e-02  1.89646140e-01\n",
      " -8.18032548e-02 -2.79211383e-02  7.30096251e-02 -3.21437493e-02\n",
      " -6.62687570e-02  1.78439721e-01  2.54457235e-01  2.77096242e-01\n",
      " -2.80990869e-01 -8.41237605e-03  6.61918521e-02 -1.09376237e-01\n",
      "  4.87642437e-02  3.15013751e-02 -2.06287671e-03  2.67908037e-01\n",
      " -3.09515625e-01 -9.38455015e-02 -8.12166214e-01  1.82940513e-01\n",
      " -5.60493767e-02  1.22733869e-01 -3.00024766e-02  1.23137251e-01\n",
      " -2.47410014e-02 -1.69102743e-01  3.15025002e-02  1.52458251e-01\n",
      " -1.54302120e-01  8.37732479e-02  1.22663744e-01  9.39768776e-02\n",
      " -1.77266628e-01 -6.49045482e-02  1.00111119e-01 -2.05699265e-01\n",
      "  2.79726274e-02  3.56931277e-02 -1.47227630e-01  1.55752242e-01\n",
      "  3.81776243e-02  1.37220010e-01  5.79744950e-02  5.52836321e-02\n",
      " -7.84437358e-03  1.21477999e-01  3.45665008e-01  3.10032010e-01\n",
      " -9.39767510e-02 -2.44889006e-01 -1.34116374e-02 -1.72189027e-02\n",
      "  1.29377246e-01  7.73505047e-02 -4.88112457e-02  1.51637375e-01\n",
      "  6.89050555e-03  5.14464974e-02 -9.60182399e-02  7.14788735e-02\n",
      "  1.38471246e-01  2.16737732e-01 -2.08011419e-01 -8.53482485e-02\n",
      " -1.14944257e-01  1.22643765e-02  1.01592489e-01 -1.51154160e-01\n",
      "  5.71992472e-02  2.98853755e-01 -2.86905229e-01  4.92997497e-01\n",
      "  7.61252493e-02 -4.09936905e-03 -3.45356017e-01  2.22182736e-01\n",
      " -2.12238744e-01 -2.83944964e-01  1.05661333e-01  1.07315756e-01\n",
      " -1.79193884e-01 -2.82471273e-02 -2.83817612e-02 -3.54772240e-01\n",
      " -5.08064106e-02 -8.13028663e-02 -1.04396030e-01 -1.09968752e-01\n",
      " -6.14002347e-04 -3.33977416e-02  1.46413118e-01  9.21637751e-03\n",
      " -1.75682724e-01  1.79457128e-01 -3.61169986e-02 -1.98452435e-02\n",
      " -9.91315022e-02 -3.52814525e-01  2.71559596e-01  9.31452513e-02\n",
      " -3.38474289e-02  2.25005001e-02  8.88512433e-02 -1.33768886e-01\n",
      "  1.85137102e-03  1.93303138e-01  1.70964763e-01  1.36355996e-01\n",
      "  1.95637532e-03 -4.81019216e-03  2.15114251e-01  2.54362226e-01\n",
      "  9.49796140e-02 -4.71315980e-02  1.77236378e-01  1.58637464e-02\n",
      "  6.34579957e-02 -1.43173840e-02 -3.71499360e-03 -5.48399985e-02\n",
      " -4.30667959e-02 -9.87953842e-02 -2.19902508e-02  1.43133879e-01\n",
      "  6.80013001e-03  5.43148741e-02  2.23951906e-01  1.45936370e-01\n",
      " -3.32057118e-01 -8.45261961e-02 -2.39871182e-02  8.12267512e-02\n",
      " -9.31627303e-02  1.09919243e-01  9.40162390e-02  2.70003714e-02\n",
      "  5.57512194e-02  5.89023754e-02  2.54423231e-01  7.06003755e-02\n",
      " -1.91493511e-01 -4.47920039e-02  1.52890876e-01 -8.36357623e-02\n",
      " -2.37734646e-01 -1.33566678e-01  1.20772496e-01 -1.18439496e-01\n",
      "  3.25881280e-02  4.23738770e-02  1.58661231e-02  1.28149375e-01\n",
      "  1.30585000e-01  1.63760498e-01 -6.43290058e-02 -2.11957633e-01\n",
      " -5.48995018e-01 -1.58862453e-02  5.11345007e-02 -7.98241124e-02\n",
      " -3.73707488e-02  7.80345574e-02  1.21074878e-01  1.50241941e-01\n",
      "  8.33642557e-02  1.15401253e-01  1.80148765e-01  1.81216747e-01\n",
      " -2.37677507e-02 -1.88107505e-01 -2.71707505e-01  7.08877742e-02\n",
      "  8.22506174e-02  1.08158119e-01 -3.25553715e-02  1.24411359e-01\n",
      "  1.02011509e-01  1.16796501e-01 -7.25934952e-02 -2.09917858e-01\n",
      "  5.48278764e-02 -8.84944350e-02 -2.57587619e-02 -2.51978010e-01\n",
      "  8.94678771e-01  6.65567517e-02  7.49951228e-02 -7.29732364e-02\n",
      "  3.77578661e-02  1.60126239e-02 -1.57721370e-01  2.91215360e-01\n",
      " -7.84634948e-02 -1.24305248e-01 -6.37093857e-02 -1.54132515e-01\n",
      "  4.83513996e-02 -4.48124483e-03 -6.10508732e-02  1.15944505e-01\n",
      " -1.33778527e-02  1.65293127e-01 -1.81456227e-02  1.60077989e-01\n",
      "  7.62997270e-02  2.74844114e-02 -1.75186135e-02  1.99586228e-02\n",
      "  9.51312482e-02 -2.64106244e-02  9.03472453e-02  1.40929133e-01\n",
      " -5.58894984e-02 -3.10607925e-02  2.31687352e-03  1.70412496e-01\n",
      "  4.11800072e-02 -4.03986245e-01 -1.75375119e-03  1.90357864e-01\n",
      " -4.35444899e-02  2.79283747e-02 -1.60698757e-01  9.34452489e-02\n",
      "  3.56926285e-02  1.21172003e-01  2.91048169e-01 -2.39730030e-02\n",
      " -4.94432271e-01  1.13136008e-01  3.00394893e-02 -1.10902876e-01\n",
      " -6.28677160e-02 -1.17765758e-02  1.26187250e-01 -1.68973371e-01\n",
      " -1.82009369e-01  5.75571284e-02  4.76966769e-01  1.34339929e-01\n",
      "  9.07688737e-02 -9.32058692e-02  1.20454624e-01  9.65007320e-02\n",
      "  3.36061269e-02 -1.65719986e-01  1.18466742e-01  1.61362231e-01\n",
      "  7.32176229e-02 -8.33121240e-02 -8.85468721e-02  5.67996241e-02\n",
      "  3.03101361e-01 -3.96542475e-02  2.49337424e-02 -2.17214629e-01\n",
      "  2.77387530e-01  7.18214959e-02  3.11812060e-03 -8.58502537e-02\n",
      " -1.95509624e+00 -5.92993572e-02  4.21177238e-01 -1.55111253e-01\n",
      " -3.26065004e-01  1.16541255e-02  9.66886990e-03 -1.73987508e-01\n",
      " -8.98652598e-02 -6.84523806e-02  5.96696287e-02  9.52345282e-02\n",
      " -2.19534993e-01 -3.38181108e-02  8.11383054e-02 -4.54174221e-01\n",
      " -4.55613770e-02  1.00420758e-01  1.28977001e-01 -8.82437378e-02\n",
      "  1.56734511e-01 -2.03174144e-01 -1.33038998e-01  1.68510377e-01]\n",
      "Similar words of the average vector:\n",
      "so (score : 0.783)\n",
      "not (score : 0.772)\n",
      "you (score : 0.767)\n",
      "n't (score : 0.765)\n",
      "this (score : 0.764)\n"
     ]
    }
   ],
   "source": [
    "text = \"I want to be a famous data scientist\"\n",
    "\n",
    "text_words = text.lower().split()\n",
    "text_vectors_list = []\n",
    "\n",
    "for text_word in text_words:\n",
    "    text_word_vector = model[text_word]\n",
    "    text_vectors_list.append(text_word_vector)\n",
    "\n",
    "text_average_vector = sum(text_vectors_list)/len(text_vectors_list) \n",
    "print (f\"The average vector of the list is {text_average_vector}\")\n",
    "\n",
    "similar_words = model.most_similar(positive=[text_average_vector], topn=5)\n",
    "\n",
    "print(\"Similar words of the average vector:\")\n",
    "for similar_word, score in similar_words:\n",
    "    print (f\"{similar_word} (score : {score:.3f})\")\n",
    "\n",
    "\n"
   ]
  },
  {
   "cell_type": "markdown",
   "metadata": {},
   "source": [
    "### Word similarity\n",
    "\n",
    "We can also compute the similarity between two words by using distance measures (e.g. [cosine similarity](https://scikit-learn.org/stable/modules/generated/sklearn.metrics.pairwise.cosine_similarity.html), [euclidean distance](https://scikit-learn.org/stable/modules/generated/sklearn.metrics.pairwise.euclidean_distances.html)...). These measures will calculate the distance between word embeddings in the vector space.\n",
    "\n",
    "Identify what fundamental difference there is between these two metrics when it comes to assessissing similarity between vectors.\n",
    "\n",
    "#### Let's practice!\n",
    "\n",
    "- Compute the cosine and the euclidean distance between those 4 words in a similarity table visualizing it with matplotlib and/or seaborn\n",
    "- Assess which words are the most similar and the most dissimilar"
   ]
  },
  {
   "cell_type": "code",
   "execution_count": 13,
   "metadata": {},
   "outputs": [
    {
     "name": "stdout",
     "output_type": "stream",
     "text": [
      "Collecting scikit-learn\n",
      "  Downloading scikit_learn-1.6.1-cp311-cp311-macosx_12_0_arm64.whl.metadata (31 kB)\n",
      "Requirement already satisfied: numpy>=1.19.5 in /Users/julielibert/.pyenv/versions/3.11.12/lib/python3.11/site-packages (from scikit-learn) (1.26.4)\n",
      "Requirement already satisfied: scipy>=1.6.0 in /Users/julielibert/.pyenv/versions/3.11.12/lib/python3.11/site-packages (from scikit-learn) (1.13.1)\n",
      "Collecting joblib>=1.2.0 (from scikit-learn)\n",
      "  Downloading joblib-1.5.1-py3-none-any.whl.metadata (5.6 kB)\n",
      "Collecting threadpoolctl>=3.1.0 (from scikit-learn)\n",
      "  Using cached threadpoolctl-3.6.0-py3-none-any.whl.metadata (13 kB)\n",
      "Downloading scikit_learn-1.6.1-cp311-cp311-macosx_12_0_arm64.whl (11.1 MB)\n",
      "\u001b[2K   \u001b[90m━━━━━━━━━━━━━━━━━━━━━━━━━━━━━━━━━━━━━━━━\u001b[0m \u001b[32m11.1/11.1 MB\u001b[0m \u001b[31m5.7 MB/s\u001b[0m eta \u001b[36m0:00:00\u001b[0m00:01\u001b[0m00:01\u001b[0m\n",
      "\u001b[?25hDownloading joblib-1.5.1-py3-none-any.whl (307 kB)\n",
      "\u001b[2K   \u001b[90m━━━━━━━━━━━━━━━━━━━━━━━━━━━━━━━━━━━━━━━━\u001b[0m \u001b[32m307.7/307.7 kB\u001b[0m \u001b[31m8.2 MB/s\u001b[0m eta \u001b[36m0:00:00\u001b[0m:00:01\u001b[0m\n",
      "\u001b[?25hUsing cached threadpoolctl-3.6.0-py3-none-any.whl (18 kB)\n",
      "Installing collected packages: threadpoolctl, joblib, scikit-learn\n",
      "Successfully installed joblib-1.5.1 scikit-learn-1.6.1 threadpoolctl-3.6.0\n",
      "\n",
      "\u001b[1m[\u001b[0m\u001b[34;49mnotice\u001b[0m\u001b[1;39;49m]\u001b[0m\u001b[39;49m A new release of pip is available: \u001b[0m\u001b[31;49m24.0\u001b[0m\u001b[39;49m -> \u001b[0m\u001b[32;49m25.1.1\u001b[0m\n",
      "\u001b[1m[\u001b[0m\u001b[34;49mnotice\u001b[0m\u001b[1;39;49m]\u001b[0m\u001b[39;49m To update, run: \u001b[0m\u001b[32;49mpip install --upgrade pip\u001b[0m\n",
      "Note: you may need to restart the kernel to use updated packages.\n"
     ]
    }
   ],
   "source": [
    "%pip install scikit-learn"
   ]
  },
  {
   "cell_type": "code",
   "execution_count": 15,
   "metadata": {},
   "outputs": [
    {
     "name": "stdout",
     "output_type": "stream",
     "text": [
      "Collecting seaborn\n",
      "  Using cached seaborn-0.13.2-py3-none-any.whl.metadata (5.4 kB)\n",
      "Requirement already satisfied: numpy!=1.24.0,>=1.20 in /Users/julielibert/.pyenv/versions/3.11.12/lib/python3.11/site-packages (from seaborn) (1.26.4)\n",
      "Collecting pandas>=1.2 (from seaborn)\n",
      "  Downloading pandas-2.2.3-cp311-cp311-macosx_11_0_arm64.whl.metadata (89 kB)\n",
      "\u001b[2K     \u001b[90m━━━━━━━━━━━━━━━━━━━━━━━━━━━━━━━━━━━━━━━━\u001b[0m \u001b[32m89.9/89.9 kB\u001b[0m \u001b[31m3.8 MB/s\u001b[0m eta \u001b[36m0:00:00\u001b[0m\n",
      "\u001b[?25hCollecting matplotlib!=3.6.1,>=3.4 (from seaborn)\n",
      "  Downloading matplotlib-3.10.3-cp311-cp311-macosx_11_0_arm64.whl.metadata (11 kB)\n",
      "Collecting contourpy>=1.0.1 (from matplotlib!=3.6.1,>=3.4->seaborn)\n",
      "  Downloading contourpy-1.3.2-cp311-cp311-macosx_11_0_arm64.whl.metadata (5.5 kB)\n",
      "Collecting cycler>=0.10 (from matplotlib!=3.6.1,>=3.4->seaborn)\n",
      "  Using cached cycler-0.12.1-py3-none-any.whl.metadata (3.8 kB)\n",
      "Collecting fonttools>=4.22.0 (from matplotlib!=3.6.1,>=3.4->seaborn)\n",
      "  Downloading fonttools-4.58.1-cp311-cp311-macosx_10_9_universal2.whl.metadata (106 kB)\n",
      "\u001b[2K     \u001b[90m━━━━━━━━━━━━━━━━━━━━━━━━━━━━━━━━━━━━━━━\u001b[0m \u001b[32m106.1/106.1 kB\u001b[0m \u001b[31m9.0 MB/s\u001b[0m eta \u001b[36m0:00:00\u001b[0m\n",
      "\u001b[?25hCollecting kiwisolver>=1.3.1 (from matplotlib!=3.6.1,>=3.4->seaborn)\n",
      "  Downloading kiwisolver-1.4.8-cp311-cp311-macosx_11_0_arm64.whl.metadata (6.2 kB)\n",
      "Requirement already satisfied: packaging>=20.0 in /Users/julielibert/.pyenv/versions/3.11.12/lib/python3.11/site-packages (from matplotlib!=3.6.1,>=3.4->seaborn) (25.0)\n",
      "Collecting pillow>=8 (from matplotlib!=3.6.1,>=3.4->seaborn)\n",
      "  Downloading pillow-11.2.1-cp311-cp311-macosx_11_0_arm64.whl.metadata (8.9 kB)\n",
      "Collecting pyparsing>=2.3.1 (from matplotlib!=3.6.1,>=3.4->seaborn)\n",
      "  Using cached pyparsing-3.2.3-py3-none-any.whl.metadata (5.0 kB)\n",
      "Requirement already satisfied: python-dateutil>=2.7 in /Users/julielibert/.pyenv/versions/3.11.12/lib/python3.11/site-packages (from matplotlib!=3.6.1,>=3.4->seaborn) (2.9.0.post0)\n",
      "Collecting pytz>=2020.1 (from pandas>=1.2->seaborn)\n",
      "  Using cached pytz-2025.2-py2.py3-none-any.whl.metadata (22 kB)\n",
      "Collecting tzdata>=2022.7 (from pandas>=1.2->seaborn)\n",
      "  Using cached tzdata-2025.2-py2.py3-none-any.whl.metadata (1.4 kB)\n",
      "Requirement already satisfied: six>=1.5 in /Users/julielibert/.pyenv/versions/3.11.12/lib/python3.11/site-packages (from python-dateutil>=2.7->matplotlib!=3.6.1,>=3.4->seaborn) (1.17.0)\n",
      "Using cached seaborn-0.13.2-py3-none-any.whl (294 kB)\n",
      "Downloading matplotlib-3.10.3-cp311-cp311-macosx_11_0_arm64.whl (8.1 MB)\n",
      "\u001b[2K   \u001b[90m━━━━━━━━━━━━━━━━━━━━━━━━━━━━━━━━━━━━━━━━\u001b[0m \u001b[32m8.1/8.1 MB\u001b[0m \u001b[31m13.7 MB/s\u001b[0m eta \u001b[36m0:00:00\u001b[0m00:01\u001b[0m00:01\u001b[0m\n",
      "\u001b[?25hDownloading pandas-2.2.3-cp311-cp311-macosx_11_0_arm64.whl (11.3 MB)\n",
      "\u001b[2K   \u001b[90m━━━━━━━━━━━━━━━━━━━━━━━━━━━━━━━━━━━━━━━━\u001b[0m \u001b[32m11.3/11.3 MB\u001b[0m \u001b[31m19.9 MB/s\u001b[0m eta \u001b[36m0:00:00\u001b[0m00:01\u001b[0m00:01\u001b[0m\n",
      "\u001b[?25hDownloading contourpy-1.3.2-cp311-cp311-macosx_11_0_arm64.whl (254 kB)\n",
      "\u001b[2K   \u001b[90m━━━━━━━━━━━━━━━━━━━━━━━━━━━━━━━━━━━━━━━━\u001b[0m \u001b[32m254.6/254.6 kB\u001b[0m \u001b[31m15.6 MB/s\u001b[0m eta \u001b[36m0:00:00\u001b[0m\n",
      "\u001b[?25hUsing cached cycler-0.12.1-py3-none-any.whl (8.3 kB)\n",
      "Downloading fonttools-4.58.1-cp311-cp311-macosx_10_9_universal2.whl (2.8 MB)\n",
      "\u001b[2K   \u001b[90m━━━━━━━━━━━━━━━━━━━━━━━━━━━━━━━━━━━━━━━━\u001b[0m \u001b[32m2.8/2.8 MB\u001b[0m \u001b[31m22.9 MB/s\u001b[0m eta \u001b[36m0:00:00\u001b[0m00:01\u001b[0m00:01\u001b[0m\n",
      "\u001b[?25hDownloading kiwisolver-1.4.8-cp311-cp311-macosx_11_0_arm64.whl (65 kB)\n",
      "\u001b[2K   \u001b[90m━━━━━━━━━━━━━━━━━━━━━━━━━━━━━━━━━━━━━━━━\u001b[0m \u001b[32m65.4/65.4 kB\u001b[0m \u001b[31m7.2 MB/s\u001b[0m eta \u001b[36m0:00:00\u001b[0m\n",
      "\u001b[?25hDownloading pillow-11.2.1-cp311-cp311-macosx_11_0_arm64.whl (3.0 MB)\n",
      "\u001b[2K   \u001b[90m━━━━━━━━━━━━━━━━━━━━━━━━━━━━━━━━━━━━━━━━\u001b[0m \u001b[32m3.0/3.0 MB\u001b[0m \u001b[31m22.2 MB/s\u001b[0m eta \u001b[36m0:00:00\u001b[0ma \u001b[36m0:00:01\u001b[0m\n",
      "\u001b[?25hUsing cached pyparsing-3.2.3-py3-none-any.whl (111 kB)\n",
      "Using cached pytz-2025.2-py2.py3-none-any.whl (509 kB)\n",
      "Using cached tzdata-2025.2-py2.py3-none-any.whl (347 kB)\n",
      "Installing collected packages: pytz, tzdata, pyparsing, pillow, kiwisolver, fonttools, cycler, contourpy, pandas, matplotlib, seaborn\n",
      "Successfully installed contourpy-1.3.2 cycler-0.12.1 fonttools-4.58.1 kiwisolver-1.4.8 matplotlib-3.10.3 pandas-2.2.3 pillow-11.2.1 pyparsing-3.2.3 pytz-2025.2 seaborn-0.13.2 tzdata-2025.2\n",
      "\n",
      "\u001b[1m[\u001b[0m\u001b[34;49mnotice\u001b[0m\u001b[1;39;49m]\u001b[0m\u001b[39;49m A new release of pip is available: \u001b[0m\u001b[31;49m24.0\u001b[0m\u001b[39;49m -> \u001b[0m\u001b[32;49m25.1.1\u001b[0m\n",
      "\u001b[1m[\u001b[0m\u001b[34;49mnotice\u001b[0m\u001b[1;39;49m]\u001b[0m\u001b[39;49m To update, run: \u001b[0m\u001b[32;49mpip install --upgrade pip\u001b[0m\n",
      "Note: you may need to restart the kernel to use updated packages.\n"
     ]
    }
   ],
   "source": [
    "%pip install seaborn"
   ]
  },
  {
   "cell_type": "code",
   "execution_count": 18,
   "metadata": {},
   "outputs": [
    {
     "data": {
      "text/plain": [
       "<function matplotlib.pyplot.show(close=None, block=None)>"
      ]
     },
     "execution_count": 18,
     "metadata": {},
     "output_type": "execute_result"
    },
    {
     "data": {
      "image/png": "[encoded data removed]",
      "text/plain": [
       "<Figure size 1200x500 with 4 Axes>"
      ]
     },
     "metadata": {},
     "output_type": "display_data"
    }
   ],
   "source": [
    "words = [\"computer\",\"keyboard\",\"water\",\"ocean\"]\n",
    "\n",
    "from sklearn.metrics.pairwise import cosine_distances, euclidean_distances\n",
    "import seaborn as sns\n",
    "import matplotlib.pyplot as plt\n",
    "import pandas as pd\n",
    "\n",
    "# avoid error \n",
    "missing = [word for word in words if word not in model]\n",
    "if missing:\n",
    "    raise ValueError (f\"{missing} not in the model vocabulary\")\n",
    "\n",
    "# (other way to create a list and append directly the vectors in it)\n",
    "vectors = [model[word] for word in words]\n",
    "\n",
    "#calculate distances\n",
    "cosine_matrix = cosine_distances (vectors)\n",
    "euclidean_matrix = euclidean_distances (vectors)\n",
    "\n",
    "# convert to a df for visualisation \n",
    "cosine_df = pd.DataFrame(cosine_matrix, index=words, columns=words)\n",
    "euclidean_df = pd.DataFrame(euclidean_matrix, index=words, columns=words)\n",
    "\n",
    "# visualisation (axs = liste de deux axes)\n",
    "fig, axs = plt.subplots(1,2, figsize=(12,5))\n",
    "\n",
    "# Heatmaps with Seaborn (annot=True display numerical values in the cases, coolwarm/viridis = different colors)\n",
    "sns.heatmap(cosine_df, annot=True, cmap=\"coolwarm\", ax=axs[0])\n",
    "axs[0].set_title(\"Cosine distance\")\n",
    "sns.heatmap(euclidean_df, annot=True, cmap=\"viridis\", ax=axs[1])\n",
    "axs[1].set_title(\"Euclidean distance\")\n",
    "\n",
    "# Layout automatic adjustement \n",
    "plt.tight_layout() # avoid overlapping axes\n",
    "plt.show # displays graphics on the screen \n",
    "\n"
   ]
  },
  {
   "cell_type": "markdown",
   "metadata": {},
   "source": [
    "## Combining things together\n",
    "\n",
    "This next bit of code uses the gensim library to allow you to perform arithmetic operations on vectors. Things you may want to try:\n",
    "\n",
    "Silly additions:\n",
    " - man + hair\n",
    "\n",
    "Checking for some more abstractions:\n",
    " - hair - woman + man\n",
    " - mice - home + city\n",
    " - children - child + goose\n",
    " - paris - france + belgium\n",
    "\n",
    "Bonus points if you can make a function which takes any form of addition and substraction calculations on word vectors."
   ]
  },
  {
   "cell_type": "code",
   "execution_count": 21,
   "metadata": {},
   "outputs": [
    {
     "name": "stdout",
     "output_type": "stream",
     "text": [
      "'king' - 'man' + 'woman' = queen'\n"
     ]
    }
   ],
   "source": [
    "equals=model.most_similar(positive=['king', 'woman'], negative=['man'])[0][0]\n",
    "print(f\"'king' - 'man' + 'woman' = {equals}'\")"
   ]
  },
  {
   "cell_type": "code",
   "execution_count": 25,
   "metadata": {},
   "outputs": [],
   "source": [
    "def vector_arithmetic(positives=[], negatives=[]):\n",
    "    result = model.most_similar(positive=positives, negative=negatives, topn=1)\n",
    "    \n",
    "    positives_text = ' + '.join(positives)\n",
    "    negatives_text = ' - '.join(negatives)\n",
    "    result_word = result [0][0] #take the first element from the first tuple in the list (as result is a list of tuple containing the word and the vector)\n",
    "    result_score = result [0][1] #take the second element from the first tuple in the list\n",
    "\n",
    "    print(f\"{positives_text} - {negatives_text} = {result_word} (score : {result_score:.2f})\")\n",
    "    return result_word"
   ]
  },
  {
   "cell_type": "code",
   "execution_count": 26,
   "metadata": {},
   "outputs": [
    {
     "name": "stdout",
     "output_type": "stream",
     "text": [
      "hair + man - woman = beard (score : 0.57)\n"
     ]
    },
    {
     "data": {
      "text/plain": [
       "'beard'"
      ]
     },
     "execution_count": 26,
     "metadata": {},
     "output_type": "execute_result"
    }
   ],
   "source": [
    "vector_arithmetic(positives=[\"hair\",\"man\"], negatives=[\"woman\"])"
   ]
  },
  {
   "cell_type": "code",
   "execution_count": null,
   "metadata": {},
   "outputs": [
    {
     "name": "stdout",
     "output_type": "stream",
     "text": [
      "children + goose - child = geese (score : 0.49)\n"
     ]
    },
    {
     "data": {
      "text/plain": [
       "'geese'"
      ]
     },
     "execution_count": 28,
     "metadata": {},
     "output_type": "execute_result"
    }
   ],
   "source": [
    "vector_arithmetic(positives=[\"children\",\"goose\"], negatives=[\"child\"])"
   ]
  },
  {
   "cell_type": "code",
   "execution_count": 30,
   "metadata": {},
   "outputs": [
    {
     "name": "stdout",
     "output_type": "stream",
     "text": [
      "mice + city - home = rats (score : 0.54)\n"
     ]
    },
    {
     "data": {
      "text/plain": [
       "'rats'"
      ]
     },
     "execution_count": 30,
     "metadata": {},
     "output_type": "execute_result"
    }
   ],
   "source": [
    "vector_arithmetic(positives=[\"mice\",\"city\"], negatives=[\"home\"])"
   ]
  },
  {
   "cell_type": "code",
   "execution_count": 32,
   "metadata": {},
   "outputs": [
    {
     "name": "stdout",
     "output_type": "stream",
     "text": [
      "paris + belgium - france = brussels (score : 0.70)\n"
     ]
    },
    {
     "data": {
      "text/plain": [
       "'brussels'"
      ]
     },
     "execution_count": 32,
     "metadata": {},
     "output_type": "execute_result"
    }
   ],
   "source": [
    "vector_arithmetic(positives=[\"paris\",\"belgium\"], negatives=[\"france\"])"
   ]
  },
  {
   "cell_type": "markdown",
   "metadata": {},
   "source": [
    "When you play with these examples (or others). You quickly notice both the powerful levels of abstraction and the gaping limitations."
   ]
  },
  {
   "cell_type": "markdown",
   "metadata": {},
   "source": [
    "## More resources\n",
    "* [Why do we use word embeddings in NLP?](https://towardsdatascience.com/why-do-we-use-embeddings-in-nlp-2f20e1b632d2)\n",
    "* [More details on what word embeddings are exactly?](https://www.analyticsvidhya.com/blog/2017/06/word-embeddings-count-word2veec/)"
   ]
  }
 ],
 "metadata": {
  "kernelspec": {
   "display_name": "3.11.12",
   "language": "python",
   "name": "python3"
  },
  "language_info": {
   "codemirror_mode": {
    "name": "ipython",
    "version": 3
   },
   "file_extension": ".py",
   "mimetype": "text/x-python",
   "name": "python",
   "nbconvert_exporter": "python",
   "pygments_lexer": "ipython3",
   "version": "3.11.12"
  }
 },
 "nbformat": 4,
 "nbformat_minor": 2
}
